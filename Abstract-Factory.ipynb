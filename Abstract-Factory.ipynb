{
 "cells": [
  {
   "cell_type": "markdown",
   "metadata": {},
   "source": [
    "## Abstract Factory\n",
    "#### [Referencia1](https://refactoring.guru/pt-br/design-patterns/abstract-factory)\n",
    "#### [Referencia2](https://www.youtube.com/watch?v=UPSuHqNsNs4&ab_channel=Ot%C3%A1vioMiranda)"
   ]
  },
  {
   "cell_type": "markdown",
   "metadata": {},
   "source": [
    "### O **Abstract Factory** é um padrão de projeto criacional que permite que você produza famílias de objetos relacionados sem ter que especificar suas classes concretas.\n",
    "![img](https://refactoring.guru/images/patterns/content/abstract-factory/abstract-factory-pt-br.png)"
   ]
  },
  {
   "cell_type": "markdown",
   "metadata": {},
   "source": [
    "## Problema\n",
    "#### Imagine que você está criando um simulador de `loja de mobílias` Seu código consiste de classes que representam:\n",
    "#### 1. Uma família de produtos relacionados, como: `Cadeira + Sofá + MesaDeCentro`.\n",
    "#### 2. Várias variantes dessa família. Por exemplo, produtos `Cadeira + Sofá + MesaDeCentro` estão disponíveis nessas variantes: `Moderno, Vitoriano, ArtDeco`.\n",
    "![img](https://refactoring.guru/images/patterns/diagrams/abstract-factory/problem-pt-br.png)"
   ]
  },
  {
   "cell_type": "markdown",
   "metadata": {},
   "source": [
    "#### Você precisa de um jeito de criar objetos de mobília individuais para que eles combinem com outros objetos da mesma família. Os clientes ficam muito bravos quando recebem mobília que não combina.\n",
    "![img](https://refactoring.guru/images/patterns/content/abstract-factory/abstract-factory-comic-1-pt-br.png)"
   ]
  },
  {
   "cell_type": "markdown",
   "metadata": {},
   "source": [
    "### Exemplo conceitual(Código)"
   ]
  },
  {
   "cell_type": "code",
   "execution_count": 38,
   "metadata": {},
   "outputs": [
    {
     "name": "stdout",
     "output_type": "stream",
     "text": [
      "build cadeira Type Piramide fofa\n",
      "make piramide\n",
      "definindo cor preta\n",
      "build cadeira Type Esferica fofa\n",
      "make esferica\n",
      "definindo cor preta\n",
      "build cadeira Type Piramide fofa\n",
      "make piramide\n",
      "definindo cor laranja\n",
      "make esferica\n",
      "nao definindo laranja\n"
     ]
    }
   ],
   "source": [
    "from abc import ABC, abstractmethod\n",
    "class FabricaAbstrata(ABC):\n",
    "    @abstractmethod\n",
    "    def create_product_piramide(self) -> object:\n",
    "        ...\n",
    "    \n",
    "    @abstractmethod\n",
    "    def create_product(self) -> object:\n",
    "        ...\n",
    "    \n",
    "    def set_cor(self):\n",
    "        print(\"definindo cor preta\")\n",
    "\n",
    "\n",
    "class InterfaceFabrica(FabricaAbstrata):\n",
    "    def create_product_piramide(self) -> object:\n",
    "        ...\n",
    "\n",
    "    def create_product(self) -> object:\n",
    "        ...\n",
    "    \n",
    "    @abstractmethod\n",
    "    def userful_function(self) -> str:\n",
    "        ...\n",
    "    \n",
    "    @abstractmethod\n",
    "    def __repr__(self):\n",
    "        ...\n",
    "\n",
    "\n",
    "class FabricaEsferica(InterfaceFabrica):\n",
    "    def userful_function(self) -> None:\n",
    "        print(\"make esferica\")\n",
    "\n",
    "    @abstractmethod\n",
    "    def create_product(self) -> object:\n",
    "        ...\n",
    "    \n",
    "    def __repr__(self):\n",
    "        return \"Type Esferica\"\n",
    "    \n",
    "\n",
    "class FabricaPiramide(InterfaceFabrica):\n",
    "    def userful_function(self) -> None:\n",
    "        print(\"make piramide\")\n",
    "\n",
    "    @abstractmethod\n",
    "    def create_product(self) -> object:\n",
    "        ...\n",
    "    \n",
    "    def __repr__(self) -> str:\n",
    "        return \"Type Piramide\"\n",
    "    \n",
    "\n",
    "class CadeiraPiramide(FabricaPiramide):\n",
    "    def create_product(self, nome: str) -> None:\n",
    "        print(f\"build cadeira {super().__repr__()} {nome}\")\n",
    "\n",
    "\n",
    "class CadeiraEsferica(FabricaEsferica):\n",
    "    def create_product(self, nome: str) -> None:\n",
    "        print(f\"build cadeira {super().__repr__()} {nome}\")\n",
    "        \n",
    "class MesaPiramide(FabricaPiramide):\n",
    "    def create_product(self, nome: str) -> None:\n",
    "        print(f\"build cadeira {super().__repr__()} {nome}\")\n",
    "    \n",
    "    def set_cor(self, cor: str='preto') -> None:\n",
    "        print(f\"definindo cor {cor}\")\n",
    "\n",
    "class MesaEsferica(FabricaEsferica):\n",
    "    def create_product(self) -> None:\n",
    "        super().create_product()\n",
    "    \n",
    "    def set_cor(self, cor: str) -> None:\n",
    "        print(f\"nao definindo {cor}\")\n",
    "\n",
    "cadeirapiramide = CadeiraPiramide()\n",
    "cadeirapiramide.create_product('fofa')\n",
    "cadeirapiramide.userful_function()\n",
    "cadeirapiramide.set_cor()\n",
    "\n",
    "cadeiraesferica = CadeiraEsferica()\n",
    "cadeiraesferica.create_product('fofa')\n",
    "cadeiraesferica.userful_function()\n",
    "cadeiraesferica.set_cor()\n",
    "\n",
    "mesapiramide = MesaPiramide()\n",
    "mesapiramide.create_product('fofa')\n",
    "mesapiramide.userful_function()\n",
    "mesapiramide.set_cor('laranja')\n",
    "\n",
    "mesaesferica = MesaEsferica()\n",
    "mesaesferica.create_product()\n",
    "mesaesferica.userful_function()\n",
    "mesaesferica.set_cor('laranja')\n"
   ]
  }
 ],
 "metadata": {
  "interpreter": {
   "hash": "128e908363acb280a47a15c84574337f3ac3285f817d31aefc25b0f997ee3c95"
  },
  "kernelspec": {
   "display_name": "Python 3.9.7 ('jupyter')",
   "language": "python",
   "name": "python3"
  },
  "language_info": {
   "codemirror_mode": {
    "name": "ipython",
    "version": 3
   },
   "file_extension": ".py",
   "mimetype": "text/x-python",
   "name": "python",
   "nbconvert_exporter": "python",
   "pygments_lexer": "ipython3",
   "version": "3.9.7"
  },
  "orig_nbformat": 4
 },
 "nbformat": 4,
 "nbformat_minor": 2
}
