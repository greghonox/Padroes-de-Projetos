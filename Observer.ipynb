{
 "cells": [
  {
   "cell_type": "code",
   "execution_count": 5,
   "metadata": {},
   "outputs": [],
   "source": [
    "class Objeto:\n",
    "    def __init__(self):\n",
    "        self.__observadores = {}\n",
    "    \n",
    "    def __repr__(self):\n",
    "        return f'-::OBJETO::- {self.__observadores}'\n",
    "    \n",
    "    def registrar(self, observador):\n",
    "        self.__observadores[observador] = observador\n",
    "        \n",
    "    def notificar_todos(self, *args, **kwargs):\n",
    "        for observador in self.__observadores.values():\n",
    "            observador.notificar(self, *args, **kwargs)\n",
    "\n",
    "\n",
    "class MsgBase:\n",
    "    def __init__(self, objeto, tipo):\n",
    "        self.tipo = tipo\n",
    "        objeto.registrar(self)\n",
    "    \n",
    "    def notificar(self, objeto, *args, **kwargs):\n",
    "        print(f'Msg no {self.tipo}: {type(self).__name__} {args[0]} {objeto}')\n",
    "        \n",
    "    def __repr__(self):\n",
    "        return f'{type(self).__name__}'\n",
    "\n",
    "\n",
    "class Telegram(MsgBase):\n",
    "    ...\n",
    "    \n",
    "\n",
    "class Whatsapp(MsgBase):\n",
    "    ...        \n",
    "\n",
    "\n",
    "class Facebook(MsgBase):\n",
    "    ...        \n",
    "\n",
    "\n",
    "obj = Objeto()\n",
    "\n",
    "telegam = Telegram(obj, 'telegam')\n",
    "whatsap = Whatsapp(obj, 'whatsap')\n",
    "facebook = Facebook(obj, 'facebook')\n",
    "\n",
    "obj.notificar_todos('Jesus esta voltando!!!')"
   ]
  }
 ],
 "metadata": {
  "kernelspec": {
   "display_name": "Python 3",
   "language": "python",
   "name": "python3"
  },
  "language_info": {
   "codemirror_mode": {
    "name": "ipython",
    "version": 3
   },
   "file_extension": ".py",
   "mimetype": "text/x-python",
   "name": "python",
   "nbconvert_exporter": "python",
   "pygments_lexer": "ipython3",
   "version": "3.8.12"
  },
  "orig_nbformat": 4,
  "vscode": {
   "interpreter": {
    "hash": "e6b58329721543a57e7a20b2224a4c0b9c830138252e82da2306432d8b6b5411"
   }
  }
 },
 "nbformat": 4,
 "nbformat_minor": 2
}
