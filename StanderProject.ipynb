{
 "cells": [
  {
   "cell_type": "markdown",
   "metadata": {},
   "source": [
    "# Chain of Responsibility em Python\n",
    "[Referencia 1.](link-url \"https://refactoring.guru/pt-br/design-patterns/chain-of-responsibility\")\n",
    "[Referencia 2.](link-url \"https://refactoring.guru/pt-br/design-patterns/chain-of-responsibility/python/example\")"
   ]
  },
  {
   "cell_type": "markdown",
   "metadata": {},
   "source": [
    "###### Vamos tratar aqui um problema de validações encadeadas. Na referência ele chama de `Corrente de responsabilidade`"
   ]
  },
  {
   "cell_type": "markdown",
   "metadata": {},
   "source": [
    "![img](https://refactoring.guru/images/patterns/content/chain-of-responsibility/chain-of-responsibility.png)"
   ]
  },
  {
   "cell_type": "markdown",
   "metadata": {},
   "source": [
    "###### O Chain of Responsibility é um padrão de projeto comportamental que permite passar a solicitação ao longo da cadeia de handlers em potencial até que um deles lide com a solicitação."
   ]
  },
  {
   "cell_type": "markdown",
   "metadata": {},
   "source": [
    "###### Exemplos de uso: O padrão Chain of Responsibility não é um padrão frequente em um programa Python, pois é relevante apenas quando o código opera com cadeias de objetos.\n",
    "\n",
    "###### Identificação: O padrão é reconhecível pelos métodos comportamentais de um grupo de objetos que indiretamente chamam os mesmos métodos em outros objetos, enquanto todos os objetos seguem a interface comum."
   ]
  },
  {
   "cell_type": "markdown",
   "metadata": {},
   "source": [
    "##### Aplicabilidade\n",
    "###### Utilize o padrão Chain of Responsibility quando é esperado que seu programa processe diferentes tipos de pedidos em várias maneiras, mas os exatos tipos de pedidos e suas sequências são desconhecidos de antemão.\n",
    "###### O padrão permite que você ligue vários handlers em uma corrente e, ao receber um pedido, perguntar para cada handler se ele pode ou não processá-lo. Dessa forma todos os handlers tem a chance de processar o pedido.\n",
    "###### Utilize o padrão quando é essencial executar diversos handlers em uma ordem específica.\n",
    "###### Já que você pode ligar os handlers em uma corrente em qualquer ordem, todos os pedidos irão atravessar a corrente exatamente como você planejou.\n",
    "###### Utilize o padrão CoR quando o conjunto de handlers e suas encomendas devem mudar no momento de execução.\n",
    "###### Se você providenciar setters para um campo de referência dentro das classes handler, você será capaz de inserir, remover, ou reordenar os handlers de forma dinâmica."
   ]
  },
  {
   "cell_type": "code",
   "execution_count": 20,
   "metadata": {},
   "outputs": [
    {
     "name": "stdout",
     "output_type": "stream",
     "text": [
      "PINTANDO\n",
      "COLORINDO\n",
      "MUDAR\n"
     ]
    },
    {
     "ename": "AssertionError",
     "evalue": "Erro encontrado!",
     "output_type": "error",
     "traceback": [
      "\u001b[0;31m---------------------------------------------------------------------------\u001b[0m",
      "\u001b[0;31mAssertionError\u001b[0m                            Traceback (most recent call last)",
      "\u001b[0;32m/var/folders/kn/l_k8mr8n57b6gl3x0fmqn6mc0000gn/T/ipykernel_9517/288945520.py\u001b[0m in \u001b[0;36m<module>\u001b[0;34m\u001b[0m\n\u001b[1;32m     25\u001b[0m \u001b[0;34m\u001b[0m\u001b[0m\n\u001b[1;32m     26\u001b[0m \u001b[0;34m\u001b[0m\u001b[0m\n\u001b[0;32m---> 27\u001b[0;31m \u001b[0mRodarHandlers\u001b[0m\u001b[0;34m(\u001b[0m\u001b[0;34m)\u001b[0m\u001b[0;34m\u001b[0m\u001b[0;34m\u001b[0m\u001b[0m\n\u001b[0m",
      "\u001b[0;32m/var/folders/kn/l_k8mr8n57b6gl3x0fmqn6mc0000gn/T/ipykernel_9517/288945520.py\u001b[0m in \u001b[0;36m__init__\u001b[0;34m(self)\u001b[0m\n\u001b[1;32m     22\u001b[0m         \u001b[0mmediador\u001b[0m \u001b[0;34m=\u001b[0m \u001b[0;34m[\u001b[0m\u001b[0mPintar\u001b[0m\u001b[0;34m,\u001b[0m \u001b[0mColorir\u001b[0m\u001b[0;34m,\u001b[0m \u001b[0mMudar\u001b[0m\u001b[0;34m,\u001b[0m \u001b[0mErro\u001b[0m\u001b[0;34m]\u001b[0m\u001b[0;34m\u001b[0m\u001b[0;34m\u001b[0m\u001b[0m\n\u001b[1;32m     23\u001b[0m         \u001b[0;32mfor\u001b[0m \u001b[0mtask\u001b[0m \u001b[0;32min\u001b[0m \u001b[0mmediador\u001b[0m\u001b[0;34m:\u001b[0m\u001b[0;34m\u001b[0m\u001b[0;34m\u001b[0m\u001b[0m\n\u001b[0;32m---> 24\u001b[0;31m             \u001b[0mtask\u001b[0m\u001b[0;34m(\u001b[0m\u001b[0;34m)\u001b[0m\u001b[0;34m\u001b[0m\u001b[0;34m\u001b[0m\u001b[0m\n\u001b[0m\u001b[1;32m     25\u001b[0m \u001b[0;34m\u001b[0m\u001b[0m\n\u001b[1;32m     26\u001b[0m \u001b[0;34m\u001b[0m\u001b[0m\n",
      "\u001b[0;32m/var/folders/kn/l_k8mr8n57b6gl3x0fmqn6mc0000gn/T/ipykernel_9517/288945520.py\u001b[0m in \u001b[0;36m__init__\u001b[0;34m(self)\u001b[0m\n\u001b[1;32m     16\u001b[0m \u001b[0;32mclass\u001b[0m \u001b[0mErro\u001b[0m\u001b[0;34m:\u001b[0m\u001b[0;34m\u001b[0m\u001b[0;34m\u001b[0m\u001b[0m\n\u001b[1;32m     17\u001b[0m     \u001b[0;32mdef\u001b[0m \u001b[0m__init__\u001b[0m\u001b[0;34m(\u001b[0m\u001b[0mself\u001b[0m\u001b[0;34m)\u001b[0m\u001b[0;34m:\u001b[0m\u001b[0;34m\u001b[0m\u001b[0;34m\u001b[0m\u001b[0m\n\u001b[0;32m---> 18\u001b[0;31m         \u001b[0;32massert\u001b[0m \u001b[0;32mFalse\u001b[0m\u001b[0;34m,\u001b[0m \u001b[0;34m\"Erro encontrado!\"\u001b[0m\u001b[0;34m\u001b[0m\u001b[0;34m\u001b[0m\u001b[0m\n\u001b[0m\u001b[1;32m     19\u001b[0m \u001b[0;34m\u001b[0m\u001b[0m\n\u001b[1;32m     20\u001b[0m \u001b[0;32mclass\u001b[0m \u001b[0mRodarHandlers\u001b[0m\u001b[0;34m:\u001b[0m\u001b[0;34m\u001b[0m\u001b[0;34m\u001b[0m\u001b[0m\n",
      "\u001b[0;31mAssertionError\u001b[0m: Erro encontrado!"
     ]
    }
   ],
   "source": [
    "class Pintar:\n",
    "    def __init__(self):\n",
    "        print(\"PINTANDO\")\n",
    "        assert True, \"Erro no Pintar\"\n",
    "\n",
    "class Colorir:\n",
    "    def __init__(self):\n",
    "        print(\"COLORINDO\")\n",
    "        assert True, \"Erro no Colorir\"\n",
    "\n",
    "class Mudar:\n",
    "    def __init__(self):\n",
    "        print(\"MUDAR\")\n",
    "        assert True, \"Erro no Mudar\"\n",
    "\n",
    "class Erro:\n",
    "    def __init__(self):\n",
    "        assert False, \"Erro encontrado!\"\n",
    "\n",
    "class RodarHandlers:\n",
    "    def __init__(self):\n",
    "        mediador = [Pintar, Colorir, Mudar, Erro]\n",
    "        for task in mediador:\n",
    "            task()\n",
    "\n",
    "\n",
    "RodarHandlers()"
   ]
  },
  {
   "cell_type": "code",
   "execution_count": 51,
   "metadata": {},
   "outputs": [
    {
     "name": "stdout",
     "output_type": "stream",
     "text": [
      "Vou fazer: dormir [Abs] [Jump]\n",
      "<class '__main__.AbstractHandler'> dormir\n",
      "Vou fazer: caminhar [Abs] [Jump]\n",
      "<class '__main__.AbstractHandler'> caminhar\n",
      "Vou fazer: correr [Abs] [Jump]\n",
      "<class '__main__.AbstractHandler'> correr\n",
      ">>>>>>>>>>>>>>>>>>>>>>>>>>>>>>>>>>>>>>>>>>>>>>>>>>>>>>>>>>>>>>>>>>>>>>>>>>>>>>>>>>>>>>>>>>>>>>>>>>>>\n",
      "Vou fazer: dormir [Abs] [Sleep]\n",
      "<class '__main__.AbstractHandler'> dormir\n",
      "Vou fazer: caminhar [Abs] [Sleep]\n",
      "<class '__main__.AbstractHandler'> caminhar\n",
      "Vou fazer: correr [Abs] [Sleep]\n",
      "<class '__main__.AbstractHandler'> correr\n",
      ">>>>>>>>>>>>>>>>>>>>>>>>>>>>>>>>>>>>>>>>>>>>>>>>>>>>>>>>>>>>>>>>>>>>>>>>>>>>>>>>>>>>>>>>>>>>>>>>>>>>\n",
      "Vou fazer: dormir [Abs] [Run]\n",
      "<class '__main__.AbstractHandler'> dormir\n",
      "Vou fazer: caminhar [Abs] [Run]\n",
      "<class '__main__.AbstractHandler'> caminhar\n",
      "Vou fazer: correr [Abs] [Run]\n",
      "<class '__main__.AbstractHandler'> correr\n",
      ">>>>>>>>>>>>>>>>>>>>>>>>>>>>>>>>>>>>>>>>>>>>>>>>>>>>>>>>>>>>>>>>>>>>>>>>>>>>>>>>>>>>>>>>>>>>>>>>>>>>\n"
     ]
    },
    {
     "ename": "AssertionError",
     "evalue": "purpose error.",
     "output_type": "error",
     "traceback": [
      "\u001b[0;31m---------------------------------------------------------------------------\u001b[0m",
      "\u001b[0;31mAssertionError\u001b[0m                            Traceback (most recent call last)",
      "\u001b[0;32m/var/folders/kn/l_k8mr8n57b6gl3x0fmqn6mc0000gn/T/ipykernel_9517/3645071354.py\u001b[0m in \u001b[0;36m<module>\u001b[0;34m\u001b[0m\n\u001b[1;32m     53\u001b[0m \u001b[0mClient\u001b[0m\u001b[0;34m(\u001b[0m\u001b[0mRunHandler\u001b[0m\u001b[0;34m(\u001b[0m\u001b[0;34m)\u001b[0m\u001b[0;34m)\u001b[0m\u001b[0;34m\u001b[0m\u001b[0;34m\u001b[0m\u001b[0m\n\u001b[1;32m     54\u001b[0m \u001b[0mprint\u001b[0m\u001b[0;34m(\u001b[0m\u001b[0;34m\">\"\u001b[0m \u001b[0;34m*\u001b[0m \u001b[0;36m100\u001b[0m\u001b[0;34m)\u001b[0m\u001b[0;34m\u001b[0m\u001b[0;34m\u001b[0m\u001b[0m\n\u001b[0;32m---> 55\u001b[0;31m \u001b[0mClient\u001b[0m\u001b[0;34m(\u001b[0m\u001b[0mErrorHandler\u001b[0m\u001b[0;34m(\u001b[0m\u001b[0;34m)\u001b[0m\u001b[0;34m)\u001b[0m\u001b[0;34m\u001b[0m\u001b[0;34m\u001b[0m\u001b[0m\n\u001b[0m",
      "\u001b[0;32m/var/folders/kn/l_k8mr8n57b6gl3x0fmqn6mc0000gn/T/ipykernel_9517/3645071354.py\u001b[0m in \u001b[0;36mClient\u001b[0;34m(handler)\u001b[0m\n\u001b[1;32m     43\u001b[0m         \u001b[0mr\u001b[0m \u001b[0;34m=\u001b[0m \u001b[0mhandler\u001b[0m\u001b[0;34m\u001b[0m\u001b[0;34m\u001b[0m\u001b[0m\n\u001b[1;32m     44\u001b[0m         \u001b[0mr\u001b[0m\u001b[0;34m.\u001b[0m\u001b[0mset_next\u001b[0m\u001b[0;34m(\u001b[0m\u001b[0mvalid\u001b[0m\u001b[0;34m)\u001b[0m\u001b[0;34m\u001b[0m\u001b[0;34m\u001b[0m\u001b[0m\n\u001b[0;32m---> 45\u001b[0;31m         \u001b[0mprint\u001b[0m\u001b[0;34m(\u001b[0m\u001b[0mr\u001b[0m\u001b[0;34m.\u001b[0m\u001b[0mhandler\u001b[0m\u001b[0;34m(\u001b[0m\u001b[0mvalid\u001b[0m\u001b[0;34m)\u001b[0m\u001b[0;34m)\u001b[0m\u001b[0;34m\u001b[0m\u001b[0;34m\u001b[0m\u001b[0m\n\u001b[0m\u001b[1;32m     46\u001b[0m         \u001b[0mprint\u001b[0m\u001b[0;34m(\u001b[0m\u001b[0mr\u001b[0m\u001b[0;34m)\u001b[0m\u001b[0;34m\u001b[0m\u001b[0;34m\u001b[0m\u001b[0m\n\u001b[1;32m     47\u001b[0m \u001b[0;34m\u001b[0m\u001b[0m\n",
      "\u001b[0;32m/var/folders/kn/l_k8mr8n57b6gl3x0fmqn6mc0000gn/T/ipykernel_9517/3645071354.py\u001b[0m in \u001b[0;36mhandler\u001b[0;34m(self, request)\u001b[0m\n\u001b[1;32m     37\u001b[0m \u001b[0;32mclass\u001b[0m \u001b[0mErrorHandler\u001b[0m\u001b[0;34m(\u001b[0m\u001b[0mAbstractHandler\u001b[0m\u001b[0;34m)\u001b[0m\u001b[0;34m:\u001b[0m\u001b[0;34m\u001b[0m\u001b[0;34m\u001b[0m\u001b[0m\n\u001b[1;32m     38\u001b[0m     \u001b[0;32mdef\u001b[0m \u001b[0mhandler\u001b[0m\u001b[0;34m(\u001b[0m\u001b[0mself\u001b[0m\u001b[0;34m,\u001b[0m \u001b[0mrequest\u001b[0m\u001b[0;34m:\u001b[0m \u001b[0mAny\u001b[0m\u001b[0;34m)\u001b[0m \u001b[0;34m->\u001b[0m \u001b[0mAssertionError\u001b[0m\u001b[0;34m:\u001b[0m\u001b[0;34m\u001b[0m\u001b[0;34m\u001b[0m\u001b[0m\n\u001b[0;32m---> 39\u001b[0;31m         \u001b[0;32massert\u001b[0m \u001b[0;32mFalse\u001b[0m\u001b[0;34m,\u001b[0m \u001b[0;34m\"purpose error.\"\u001b[0m\u001b[0;34m\u001b[0m\u001b[0;34m\u001b[0m\u001b[0m\n\u001b[0m\u001b[1;32m     40\u001b[0m \u001b[0;34m\u001b[0m\u001b[0m\n\u001b[1;32m     41\u001b[0m \u001b[0;32mdef\u001b[0m \u001b[0mClient\u001b[0m\u001b[0;34m(\u001b[0m\u001b[0mhandler\u001b[0m\u001b[0;34m:\u001b[0m \u001b[0mHandler\u001b[0m\u001b[0;34m)\u001b[0m \u001b[0;34m->\u001b[0m \u001b[0;32mNone\u001b[0m\u001b[0;34m:\u001b[0m\u001b[0;34m\u001b[0m\u001b[0;34m\u001b[0m\u001b[0m\n",
      "\u001b[0;31mAssertionError\u001b[0m: purpose error."
     ]
    }
   ],
   "source": [
    "from abc import ABC, abstractmethod\n",
    "from typing import Any\n",
    "\n",
    "class Handler(ABC):\n",
    "    @abstractmethod\n",
    "    def set_next(self, handler: Handler) -> Handler:\n",
    "        NotImplementedError(\"Can't use 'set' on an set_next!\")\n",
    "\n",
    "    @abstractmethod\n",
    "    def handler(self, request: Any) -> str:\n",
    "        return f\"Vou fazer: {request}\"\n",
    "\n",
    "class AbstractHandler(Handler):\n",
    "    _next_handler : Handler = None\n",
    "\n",
    "    def set_next(self, handler: Handler) -> Handler:\n",
    "        self._next_handler = handler\n",
    "        return handler\n",
    "    \n",
    "    def handler(self, request: Any) -> str:\n",
    "        return super().handler(request) + \" [Abs]\"\n",
    "    \n",
    "    def __str__(self):\n",
    "        return f\"{__class__} {self._next_handler}\"\n",
    "\n",
    "class RunHandler(AbstractHandler):\n",
    "    def handler(self, request: Any) -> str:\n",
    "        return super().handler(request) + \" [Run]\"\n",
    "\n",
    "class JumpHandler(AbstractHandler):\n",
    "    def handler(self, request: Any) -> str:\n",
    "        return super().handler(request) + \" [Jump]\"\n",
    "\n",
    "class SleepHandler(AbstractHandler):\n",
    "    def handler(self, request: Any) -> str:\n",
    "        return super().handler(request) + \" [Sleep]\" \n",
    "\n",
    "class ErrorHandler(AbstractHandler):\n",
    "    def handler(self, request: Any) -> AssertionError:\n",
    "        assert False, \"purpose error.\"\n",
    "\n",
    "def Client(handler: Handler) -> None:\n",
    "    for valid in [\"dormir\", \"caminhar\", \"correr\"]:\n",
    "        r = handler\n",
    "        r.set_next(valid)\n",
    "        print(r.handler(valid))\n",
    "        print(r)\n",
    "\n",
    "\n",
    "Client(JumpHandler())\n",
    "print(\">\" * 100)\n",
    "Client(SleepHandler())\n",
    "print(\">\" * 100)\n",
    "Client(RunHandler())\n",
    "print(\">\" * 100)\n",
    "Client(ErrorHandler())\n"
   ]
  }
 ],
 "metadata": {
  "interpreter": {
   "hash": "397704579725e15f5c7cb49fe5f0341eb7531c82d19f2c29d197e8b64ab5776b"
  },
  "kernelspec": {
   "display_name": "Python 3.9.9 64-bit",
   "language": "python",
   "name": "python3"
  },
  "language_info": {
   "codemirror_mode": {
    "name": "ipython",
    "version": 3
   },
   "file_extension": ".py",
   "mimetype": "text/x-python",
   "name": "python",
   "nbconvert_exporter": "python",
   "pygments_lexer": "ipython3",
   "version": "3.9.9"
  },
  "orig_nbformat": 4
 },
 "nbformat": 4,
 "nbformat_minor": 2
}
