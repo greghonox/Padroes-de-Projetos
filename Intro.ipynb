{
    "cells": [
        {
            "cell_type": "markdown",
            "metadata": {},
            "source": [
                "### PADROES DE PROJETO"
            ]
        },
        {
            "cell_type": "markdown",
            "metadata": {},
            "source": [
                "##### `Autor:Gregório Honrato`\n",
                "##### `Email: greghono@gmail.com`\n",
                "[Referencia](link-url \"https://refactoring.guru/pt-br/design-patterns/what-is-pattern\")"
            ]
        },
        {
            "cell_type": "markdown",
            "metadata": {},
            "source": [
                "### Oque é padrão de projeto?\n",
                "![img](https://refactoring.guru/images/content-public/logos/logo-covid-winter.png)"
            ]
        },
        {
            "cell_type": "markdown",
            "metadata": {},
            "source": [
                "##### Soluções tipicas para problemas comuns em projeto de software.\n",
                "\n",
                "##### Um padrão de projeto não é um código bem produzido e terminado. Ambos chegam na solução mas o padrão de projeto vem com conceitos da `motivação` para ter desenvolvido o determinada solução; Quais `estruturas` devem ser observada para melhor solução; `propósito` do projeto em si e um pouco mais que algoritimos.\n",
                "\n",
                "##### Os padrões são `soluções típicas` para problemas comuns em projetos orientados a objetos.\n",
                "\n",
                "##### O conceito de padrões foi primeiramente descrito por Christopher Alexander em Uma `Linguagem de Padrões`. O livro descreve uma “linguagem” para o projeto de um ambiente urbano. As unidades dessa linguagem são os padrões. Eles podem descrever quão alto as janelas devem estar, quantos andares um prédio deve ter, quão largas as áreas verdes de um bairro devem ser, e assim em diante.\n"
            ]
        },
        {
            "cell_type": "markdown",
            "metadata": {},
            "source": [
                "## Por que devo aprender padrões?"
            ]
        },
        {
            "cell_type": "markdown",
            "metadata": {},
            "source": [
                "##### Os padrões de projeto são um kit de ferramentas para soluções tentadas e testadas para problemas comuns em projeto de software. Mesmo que você nunca tenha encontrado esses problemas, saber sobre os padrões é ainda muito útil porque eles ensinam como resolver vários problemas usando princípios de projeto orientado a objetos.\n",
                "\n",
                "##### Os padrões de projeto definem uma linguagem comum que você e seus colegas podem usar para se comunicar mais eficientemente. Você pode dizer, “Oh, é só usar um Singleton para isso,” e todo mundo vai entender a ideia por trás da sua sugestão. Não é preciso explicar o que um singleton é se você conhece o padrão e seu nome."
            ]
        },
        {
            "cell_type": "markdown",
            "metadata": {},
            "source": [
                "## Crítica dos padrões"
            ]
        },
        {
            "cell_type": "markdown",
            "metadata": {},
            "source": [
                "### Gambiarras para uma linguagem de programação fraca\n",
                "\n",
                "##### Geralmente a necessidade de padrões surge quando as pessoas escolhem uma linguagem de programação ou uma tecnologia que tem uma deficiência no nível de abstração. Neste caso, os padrões se transformam em gambiarras que dão à linguagem superpoderes muito necessários.\n",
                "\n",
                "##### Ao contrário da afirmação acima, muitas linguagens de programação já deixa escrever códigos utilizando conceitos `strategy ou orientação a objeto` .\n",
                "\n",
                "### Soluções ineficientes\n",
                "\n",
                "##### Os padrões tentam sistematizar abordagens que já são amplamente usadas. Essa unificação é vista por muitos como um dogma e eles implementam os padrões “direto ao ponto”, sem adaptá-los ao contexto de seus projetos.\n",
                "##### Talvez a por conta do `strategy` algumas pessoas já acreditem não pensarem em ir a fundo nos padrões de projetos.\n",
                "\n",
                "### Uso injustificável\n",
                "##### `Se tudo que você tem é um martelo, tudo parece com um prego`.\n",
                "##### Esse é o problema que assombra muitos novatos que acabaram de se familiarizar com os padrões. Tendo aprendido sobre eles, tentam aplicá-los em tudo, até mesmo em situações onde um código mais simples seria suficiente."
            ]
        },
        {
            "cell_type": "markdown",
            "metadata": {},
            "source": [
                "## Classificação dos padrões"
            ]
        },
        {
            "cell_type": "markdown",
            "metadata": {},
            "source": [
                "##### Além disso, todos os padrões podem ser categorizados por seu propósito, ou intenção. Esse livro trata de três grupos principais de padrões:\n",
                "##### Os `padrões criacionais` fornecem mecanismos de criação de objetos que aumentam a flexibilidade e a reutilização de código.\n",
                "##### Os `padrões estruturais` explicam como montar objetos e classes em estruturas maiores, enquanto ainda mantém as estruturas flexíveis e eficientes.\n",
                "##### Os `padrões comportamentais` cuidam da comunicação eficiente e da assinalação de responsabilidades entre objetos.\n"
            ]
        },
        {
            "cell_type": "markdown",
            "metadata": {},
            "source": [
                "## Factory Mathod - Método de fábricação `Padrão criacionais`\n",
                "![img](https://refactoring.guru/images/patterns/content/factory-method/factory-method-pt-br.png)"
            ]
        },
        {
            "cell_type": "markdown",
            "metadata": {},
            "source": [
                "##### Factory Method são padrão criacional de projeto que fornece uma interface para criar objetos em uma superclasse, mas permite que as subclasses alterem o tipo de objetos que serão criados.\n",
                "\n",
                "### Problema\n",
                "\n",
                "##### Imagine uma empresa de logistica que trabalha com um objeto chamado caminhão. E esse objeto já tem sua implementação feita e perfeitamente adaptada a sua realidade. Imagina agora essa empresa de logistica tendo que trabalhar com outros meios de transportes, barcos, motos e etc ... Perceba que o código para usar o caminhão vai ser alterado para poder atender os meios de transportes sugeridos.\n",
                "![img](https://refactoring.guru/images/patterns/diagrams/factory-method/problem1-pt-br.png)"
            ]
        },
        {
            "cell_type": "markdown",
            "metadata": {},
            "source": [
                "### Solução\n",
                "\n",
                "##### Se analisar bem o `propósito de cada meio de transporte`, vai observar que ele tem o mesmo objetivo do caminhão. Com essa analogia em mente fica fácil construir uma interface para poder chamar de meio de transporte e depois em cada subclasse sobrescreve expecializando para cada uma. Dessa forma se reduz a duplicação de código e a hieraquia da strategy.\n",
                "\n",
                "![img](https://refactoring.guru/images/patterns/diagrams/factory-method/solution1.png)"
            ]
        },
        {
            "cell_type": "markdown",
            "metadata": {},
            "source": [
                "##### Como exemplo, todo meio de transporte tem ações comuns (method) e por conta disso, fica a deve do programador expicializar alguns metódos da super classe `interface`. Se analisarmos alguns casos como: O caminhão anda sobre o chão, já o barco anda sobre o aguás. Então já se observa que o metodo `andar` deve se expeficico para cada meio de transportes. Assim como a forma de `embarcar ou desembarcar` a carga deve se observar a forma de realizar os mesmo.\n",
                "\n",
                "![img](https://refactoring.guru/images/patterns/diagrams/factory-method/solution3-pt-br.png)"
            ]
        },
        {
            "cell_type": "markdown",
            "metadata": {},
            "source": [
                "### Fabricação das classes\n",
                "\n",
                "##### Aqui podemos notar que para fazer uso de cada `meio de transporte` deve ter em comum uma fabricação que aceite ambos as classes sem realizar alterações."
            ]
        },
        {
            "cell_type": "markdown",
            "metadata": {},
            "source": [
                "## Estrutura\n",
                "![img](https://refactoring.guru/images/patterns/diagrams/factory-method/structure.png)"
            ]
        },
        {
            "cell_type": "code",
            "execution_count": 20,
            "metadata": {},
            "outputs": [
                {
                    "name": "stdout",
                    "output_type": "stream",
                    "text": [
                        "Launch ProductA!\n",
                        "do stuff of productA\n",
                        "This is a ProductA 'do stuff of productA'!\n",
                        "\n",
                        "\n",
                        "Launch ProductB!\n",
                        "do stuff of productB\n",
                        "This is a ProductB 'do stuff of productB'!\n",
                        "\n",
                        "\n",
                        "Modify ProductA\n",
                        "it's not me anymore\n",
                        "This is a ProductA 'it's not me anymore'!\n"
                    ]
                },
                {
                    "data": {
                        "text/plain": [
                            "<__main__.BuildProduct at 0x7f79bf3dadf0>"
                        ]
                    },
                    "execution_count": 20,
                    "metadata": {},
                    "output_type": "execute_result"
                }
            ],
            "source": [
                "from __future__ import annotations\n",
                "from abc import ABC, abstractmethod\n",
                "\n",
                "class Product(ABC):\n",
                "    @abstractmethod\n",
                "    def doStuff(self):\n",
                "        ...\n",
                "    def setProduct(self, msg):\n",
                "        self.msg = msg\n",
                "\n",
                "class ProductA(Product):\n",
                "    msg = \"do stuff of productA\"\n",
                "    def doStuff(self) -> str:\n",
                "        return self.msg\n",
                "    \n",
                "    def __str__(self):\n",
                "        return f\"This is a ProductA '{self.msg}'!\"\n",
                "\n",
                "class ProductB(Product):\n",
                "    msg = \"do stuff of productB\"\n",
                "    def doStuff(self) -> str:\n",
                "        return self.msg\n",
                "    \n",
                "    def __str__(self):\n",
                "        return f\"This is a ProductB '{self.msg}'!\"\n",
                "\n",
                "class BuildProduct:\n",
                "    def __init__(self, product: Product) -> None:\n",
                "        prod = product\n",
                "        print(prod().doStuff())\n",
                "        print(prod())\n",
                "\n",
                "print(\"Launch ProductA!\")\n",
                "BuildProduct(ProductA)\n",
                "print(\"\\n\")\n",
                "print(\"Launch ProductB!\")\n",
                "BuildProduct(ProductB)\n",
                "print(\"\\n\")\n",
                "print(\"Modify ProductA\")\n",
                "prodA = ProductA\n",
                "prodA.msg = \"it's not me anymore\"\n",
                "BuildProduct(prodA)\n",
                "\n",
                "    "
            ]
        }
    ],
    "metadata": {
        "interpreter": {
            "hash": "86305f7739ec2c013d725c6d10bd61e9996f09f4a8520e0a2e26d9db5fdde8ec"
        },
        "kernelspec": {
            "display_name": "Python 3.8.9 64-bit ('venv': venv)",
            "language": "python",
            "name": "python3"
        },
        "language_info": {
            "codemirror_mode": {
                "name": "ipython",
                "version": 3
            },
            "file_extension": ".py",
            "mimetype": "text/x-python",
            "name": "python",
            "nbconvert_exporter": "python",
            "pygments_lexer": "ipython3",
            "version": "3.8.9"
        },
        "orig_nbformat": 4
    },
    "nbformat": 4,
    "nbformat_minor": 2
}
