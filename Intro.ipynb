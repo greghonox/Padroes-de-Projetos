{
    "cells": [
        {
            "cell_type": "markdown",
            "metadata": {},
            "source": [
                "### PADROES DE PROJETO"
            ]
        },
        {
            "cell_type": "markdown",
            "metadata": {},
            "source": [
                "###### `Autor:Gregório Honrato`\n",
                "###### `Email: greghono@gmail.com`\n",
                "###### `Referencia: <a href=\"https://refactoring.guru/pt-br/design-patterns/what-is-pattern\">GURU</a>`"
            ]
        },
        {
            "cell_type": "markdown",
            "metadata": {},
            "source": [
                "##### Oque é padrão de projeto?\n",
                "##### Soluções tipicas para problemas comuns em projeto de software."
            ]
        },
        {
            "cell_type": "markdown",
            "metadata": {},
            "source": []
        }
    ],
    "metadata": {
        "language_info": {
            "name": "python"
        },
        "orig_nbformat": 4
    },
    "nbformat": 4,
    "nbformat_minor": 2
}
