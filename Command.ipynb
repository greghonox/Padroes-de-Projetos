{
 "cells": [
  {
   "cell_type": "markdown",
   "metadata": {},
   "source": [
    "### Command\n",
    "#### [Referencia 1](https://refactoring.guru/pt-br/design-patterns/command)\n",
    "#### [Referencia 2](https://www.youtube.com/watch?v=HtDvSrx5ZeE&list=PLAgbpJQADBGIOOJIolD0f_oJd3hNJCLK7&index=10&ab_channel=ProgramadorLhama)"
   ]
  },
  {
   "cell_type": "markdown",
   "metadata": {},
   "source": [
    "#### Também conhecido como: `Comando, Ação, Action, Transação, Transaction`\n",
    "\n",
    "### Propósito\n",
    "\n",
    "#### O `Command` é um padrão de projeto comportamental que transforma um pedido em um *objeto independente que contém toda a informação sobre o pedido*. Essa transformação permite que você parametrize métodos com diferentes pedidos, atrase ou coloque a execução do pedido em uma fila, e suporte operações que não podem ser feitas.\n",
    "![img](https://refactoring.guru/images/patterns/content/command/command-pt-br.png)"
   ]
  },
  {
   "cell_type": "markdown",
   "metadata": {},
   "source": [
    "### Problema\n",
    "\n",
    "#### Imagine que você está trabalhando em uma nova aplicação de editor de texto. Sua tarefa atual é criar uma barra de tarefas com vários botões para várias operações do editor. Você criou uma classe `Botão` muito bacana que _pode ser usada para botões na barra de tarefas_, bem como para botões genéricos de diversas caixas de diálogo.\n",
    "\n",
    "![img](https://refactoring.guru/images/patterns/diagrams/command/problem1.png)"
   ]
  },
  {
   "cell_type": "markdown",
   "metadata": {},
   "source": [
    "#### Embora todos esses `botões pareçam similares`, eles todos `devem fazer coisas diferentes`. Aonde você deveria colocar o código para os vários handlers de cliques desses botões? A solução mais simples é `criar um monte de subclasses para cada local que o botão for usado`. Essas subclasses conteriam o código que teria que ser executado em um clique de botão.\n",
    "![img](https://refactoring.guru/images/patterns/diagrams/command/problem2.png)"
   ]
  },
  {
   "cell_type": "markdown",
   "metadata": {},
   "source": [
    "#### Não demora muito e você percebe que essa `abordagem é falha`. Primeiro você tem um _enorme número de subclasses_, e isso *seria okay se você não arriscasse quebrar o código dentro dessas subclasses cada vez que você modificar a classe base Botão*. Colocando em miúdos: seu código GUI se torna absurdamente dependente de um código volátil da lógica do negócio.\n",
    "![img](https://refactoring.guru/images/patterns/diagrams/command/problem3-pt-br.png)"
   ]
  },
  {
   "cell_type": "markdown",
   "metadata": {},
   "source": [
    "#### E aqui está a parte mais feia. Algumas operações, tais como `copiar/colar texto, precisariam ser invocadas de diversos lugares`. Por exemplo, um usuário poderia criar um pequeno botão “Copiar” na barra de ferramentas, ou copiar alguma coisa através do menu de contexto, ou apenas apertando Crtl+C no teclado.\n",
    "\n",
    "#### Inicialmente, quando sua aplicação só tinha a barra de ferramentas, tudo bem colocar a implementação de várias operações dentro das subclasses do botão. Em outras palavras, ter o código de cópia de texto dentro da subclasse BotãoCópia parecia certo. `Mas então, quando você implementou menus de contexto, atalhos, e outras coisas, você teve que ou duplicar o código da operação em muitas classes ou fazer menus dependentes de botões, o que é uma opção ainda pior.`\n",
    "\n",
    "### *Solução*\n",
    "\n",
    "#### Um bom projeto de software quase sempre se baseia no `princípio da separação de interesses`, o que geralmente resulta em dividir a aplicação em camadas. O exemplo mais comum: uma camada para a interface `gráfica do usuário e outra camada para a lógica do negócio`. `A camada GUI é responsável por renderizar uma bonita` imagem na tela, capturando quaisquer dados e mostrando resultados do que o usuário e a aplicação estão fazendo. *Contudo, quando se trata de fazer algo importante, como calcular a trajetória da lua ou compor um relatório anual, a camada GUI delega o trabalho para a camada inferior da lógica do negócio.*\n",
    "\n",
    "#### Dentro do código pode parecer assim: um `objeto GUI chama um método da lógica do negócio`, passando alguns argumentos. Este processo é geralmente descrito como um objeto mandando um pedido para outro.\n",
    "![img](https://refactoring.guru/images/patterns/diagrams/command/solution1-pt-br.png)\n"
   ]
  },
  {
   "cell_type": "markdown",
   "metadata": {},
   "source": [
    "#### O padrão *Command* sugere que os objetos GUI *não enviem esses pedidos diretamente*. Ao invés disso, você deve extrair todos os detalhes do pedido, tais como o objeto a ser chamado, o nome do método, e a lista de argumentos em uma classe comando separada que tem *apenas um método que aciona esse pedido*.\n",
    "\n",
    "#### `Objetos comando servem como links entre vários objetos GUI e de lógica de negócio`. De agora em diante, o objeto GUI não precisa saber qual objeto de lógica do negócio irá receber o pedido e como ele vai ser processado. O objeto GUI deve acionar o comando, que irá lidar com todos os detalhes.\n",
    "![img](https://refactoring.guru/images/patterns/diagrams/command/solution2-pt-br.png)"
   ]
  },
  {
   "cell_type": "markdown",
   "metadata": {},
   "source": [
    "#### `O próximo passo é fazer seus comandos implementarem a mesma interface`. Geralmente é apenas um *método de execução que não pega parâmetros*. Essa interface permite que você use vários comandos com o mesmo remetente do pedido, sem acoplá-lo com as classes concretas dos comandos. Como um bônus, `agora você pode trocar os objetos comando ligados ao remetente, efetivamente mudando o comportamento do remetente no momento da execução.`\n",
    "\n",
    "#### `Você pode ter notado uma peça faltante nesse quebra cabeças, que são os parâmetros do pedido. Um objeto GUI pode ter fornecido ao objeto da camada de negócio com alguns parâmetros, como deveremos passar os detalhes do pedido para o destinatário?` Parece que o comando deve ser ou pré configurado com esses dados, ou ser capaz de obtê-los por conta própria.\n",
    "![img](https://refactoring.guru/images/patterns/diagrams/command/solution3-pt-br.png)\n"
   ]
  },
  {
   "cell_type": "markdown",
   "metadata": {},
   "source": [
    "#### Vamos voltar ao nosso editor de texto. `Após aplicarmos o padrão Command, nós não mais precisamos de todas aquelas subclasses de botões para implementar vários comportamentos de cliques.` É suficiente colocar apenas um campo na classe *Botão base que armazena a referência para um objeto comando e faz o botão executar aquele comando com um clique.*\n",
    "\n",
    "#### Você vai `implementar um monte de classes comando para cada possível operação e ligá-los aos seus botões em particular`, dependendo do comportamento desejado para os botões.\n",
    "\n",
    "#### Outros elementos GUI, tais como menus, atalhos, ou caixas de diálogo inteiras, podem ser implementados da mesma maneira. Eles serão ligados a um comando que será executado quando um usuário interage com um elemento GUI. `Como você provavelmente adivinhou, os elementos relacionados a mesma operação serão ligados aos mesmos comandos, prevenindo a duplicação de código.`\n",
    "\n",
    "#### *Como resultado, os comandos se tornam uma camada intermédia conveniente que reduz o acoplamento entre as camadas GUI e de lógica do negócio. E isso é apenas uma fração dos benefícios que o padrão Command pode oferecer.*\n",
    "\n",
    "### *Analogia com o mundo real*\n",
    "\n",
    "#### Após uma longa caminhada pela cidade, você chega a um restaurante bacana e senta numa mesa perto da janela. Um garçom amigável se aproxima e `rapidamente recebe seu pedido`, escrevendo-o em um pedaço de papel. O `garçom vai até a cozinha e prende o pedido em uma parede`. Após algum tempo, o pedido chega até o `chef, que o lê e cozinha a refeição de acordo`. O cozinheiro coloca a refeição em uma bandeja junto com o pedido. O garçom acha a bandeja, verifica o pedido para garantir que é aquilo que você queria, e o traz para sua mesa.\n",
    "\n",
    "#### O *pedido no papel serve como um comando*. Ele permanece em uma fila até que o chef esteja pronto para serví-lo. `O pedido contém todas as informações relevantes necessárias para cozinhar a refeição`. `Ele permite ao chef começar a cozinhar imediatamente` ao invés de ter que ir até você para clarificar os detalhes do pedido pessoalmente.\n",
    "\n",
    "![img](https://refactoring.guru/images/patterns/content/command/command-comic-1.png)"
   ]
  },
  {
   "cell_type": "markdown",
   "metadata": {},
   "source": [
    "### Exemplo conceitual(Código)"
   ]
  },
  {
   "cell_type": "code",
   "execution_count": 25,
   "metadata": {},
   "outputs": [
    {
     "name": "stdout",
     "output_type": "stream",
     "text": [
      "Execute <__main__.Receptor object at 0x7f1e78cf33a0> A B\n",
      "Execute ButtonRed\n",
      "Button\n",
      "Execute <__main__.Receptor object at 0x7f1e74219990> A B\n",
      "Execute ButtonBlue\n",
      "Button\n"
     ]
    }
   ],
   "source": [
    "from abc import abstractmethod, ABC\n",
    "from typing import Callable\n",
    "\n",
    "class Button(ABC):\n",
    "    @abstractmethod\n",
    "    def execute(self) -> None:\n",
    "        ...\n",
    "    \n",
    "    def __str__(self) -> None:\n",
    "        return f'Button'\n",
    "\n",
    "\n",
    "\n",
    "class ButtonRed(Button):\n",
    "    def execute(self) -> None:\n",
    "        print('Execute ButtonRed')\n",
    "        \n",
    "\n",
    "class ButtonBlue(Button):\n",
    "    def execute(self) -> None:\n",
    "        print('Execute ButtonBlue')\n",
    "        \n",
    "        \n",
    "class Receptor():\n",
    "    def __init__(self, command: Callable, a: str, b: str) -> None:\n",
    "        self.command: Callable = command\n",
    "        self.a: str = a\n",
    "        self.b: str = b\n",
    "    \n",
    "    def some_command(self) -> None:\n",
    "        if isinstance(self.command, Button):\n",
    "            print(f'Execute {self} {self.a} {self.b}')\n",
    "            self.command.execute()\n",
    "        else:\n",
    "            print('no implement')\n",
    "\n",
    "\n",
    "buttonred = ButtonRed()\n",
    "receptor = Receptor(buttonred, 'A', 'B')\n",
    "receptor.some_command()\n",
    "print(buttonred)\n",
    "\n",
    "buttonblue = ButtonBlue()\n",
    "receptor = Receptor(buttonblue, 'A', 'B')\n",
    "receptor.some_command()\n",
    "print(buttonblue)\n"
   ]
  },
  {
   "cell_type": "code",
   "execution_count": 21,
   "metadata": {},
   "outputs": [
    {
     "name": "stdout",
     "output_type": "stream",
     "text": [
      "ASSANDO ['pato', 'costela', 'peito frango', 'bisteca']\n",
      "BATENDO ['bisteca', 'peito frango', 'costela', 'pato']\n",
      "MONTANDO pato\n",
      "MONTANDO costela\n",
      "MONTANDO peito frango\n",
      "MONTANDO bisteca\n"
     ]
    }
   ],
   "source": [
    "from abc import abstractmethod, ABC\n",
    "from typing import Callable\n",
    "\n",
    "\n",
    "class Prato(ABC):\n",
    "    def __init__(self, ingredientes: list) -> None:\n",
    "        self.ingredientes: list = ingredientes\n",
    "    \n",
    "    @abstractmethod\n",
    "    def preparar(self) -> None:\n",
    "        ...\n",
    "\n",
    "\n",
    "class Churrasco(Prato):\n",
    "    def preparar(self) -> None:\n",
    "        print(f'ASSANDO {self.ingredientes}')\n",
    "\n",
    "\n",
    "class Pizza(Prato):\n",
    "    def preparar(self) -> None:\n",
    "        for ingrediente in self.ingredientes:\n",
    "            print(f'MONTANDO {ingrediente}')\n",
    "\n",
    "\n",
    "class Massa(Prato):\n",
    "    def preparar(self) -> None:\n",
    "        print(f'BATENDO {self.ingredientes[::-1]}')\n",
    "            \n",
    "\n",
    "class Garcom:\n",
    "    def faz_pedido(self, func: Callable) -> Callable:\n",
    "        return func.preparar()\n",
    "\n",
    "\n",
    "garcom = Garcom()\n",
    "churrasco = Churrasco(['pato', 'costela', 'peito frango', 'bisteca'])\n",
    "garcom.faz_pedido(churrasco)\n",
    "\n",
    "massa = Massa(['pato', 'costela', 'peito frango', 'bisteca'])\n",
    "garcom.faz_pedido(massa)\n",
    "\n",
    "pizza = Pizza(['pato', 'costela', 'peito frango', 'bisteca'])\n",
    "garcom.faz_pedido(pizza)\n",
    "\n"
   ]
  }
 ],
 "metadata": {
  "interpreter": {
   "hash": "128e908363acb280a47a15c84574337f3ac3285f817d31aefc25b0f997ee3c95"
  },
  "kernelspec": {
   "display_name": "Python 3.10.4 ('jupyter')",
   "language": "python",
   "name": "python3"
  },
  "language_info": {
   "codemirror_mode": {
    "name": "ipython",
    "version": 3
   },
   "file_extension": ".py",
   "mimetype": "text/x-python",
   "name": "python",
   "nbconvert_exporter": "python",
   "pygments_lexer": "ipython3",
   "version": "3.10.4"
  },
  "orig_nbformat": 4
 },
 "nbformat": 4,
 "nbformat_minor": 2
}
