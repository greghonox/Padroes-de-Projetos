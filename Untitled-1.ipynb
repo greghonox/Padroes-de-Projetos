{
    "cells": [
        {
            "cell_type": "markdown",
            "metadata": {},
            "source": [
                "### PADROES DE PROJETO"
            ]
        },
        {
            "cell_type": "markdown",
            "metadata": {},
            "source": [
                "###### `Autor:Gregório Honrato`\n",
                "###### `Email: greghono@gmail.com`"
            ]
        }
    ],
    "metadata": {
        "language_info": {
            "name": "python"
        },
        "orig_nbformat": 4
    },
    "nbformat": 4,
    "nbformat_minor": 2
}
