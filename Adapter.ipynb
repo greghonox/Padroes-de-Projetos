{
 "cells": [
  {
   "cell_type": "markdown",
   "metadata": {},
   "source": [
    "### Adapter\n",
    "#### [Referencia1](https://refactoring.guru/pt-br/design-patterns/adapter)\n",
    "#### [Referencia2](https://www.youtube.com/watch?v=eZiceA2Veg0)"
   ]
  },
  {
   "cell_type": "markdown",
   "metadata": {},
   "source": [
    "#### O `Adapte` é um padrão de projeto estrutural que permite objetos com interfaces incompatíveis colaborarem entre si.\n",
    "![img](https://refactoring.guru/images/patterns/content/adapter/adapter-pt-br.png)"
   ]
  },
  {
   "cell_type": "markdown",
   "metadata": {},
   "source": [
    "### Problema\n",
    "#### Imagine que você está criando uma aplicação de monitoramento do mercado de ações da bolsa. A aplicação baixa os dados as ações de múltiplas fontes em formato XML e então mostra gráficos e diagramas maneiros para o usuário.\n",
    "\n",
    "#### Em algum ponto, você decide melhorar a aplicação ao integrar uma biblioteca de análise de terceiros. Mas aqui está a pegadinha: a biblioteca só trabalha com dados em formato JSON.\n",
    "![img](https://refactoring.guru/images/patterns/diagrams/adapter/problem-pt-br.png)"
   ]
  },
  {
   "cell_type": "markdown",
   "metadata": {},
   "source": [
    "#### Você poderia mudar a biblioteca para que ela funcione com XML. Contudo, isso pode quebrar algum código existente que depende da biblioteca. E pior, você pode não ter acesso ao código fonte da biblioteca para começo de conversa, fazendo dessa abordagem uma tarefa impossível."
   ]
  },
  {
   "cell_type": "markdown",
   "metadata": {},
   "source": [
    "### Solução\n",
    "#### Você pode criar um adaptador. Ele é um objeto especial que converte a interface de um objeto para que outro objeto possa entendê-lo.\n",
    "\n",
    "#### Um adaptador encobre um dos objetos para esconder a complexidade da conversão acontecendo nos bastidores. O objeto encobrido nem fica ciente do adaptador. Por exemplo, você pode encobrir um objeto que opera em metros e quilômetros com um adaptador que converte todos os dados para unidades imperiais tais como pés e milhas.\n",
    "\n",
    "#### Adaptadores podem não só converter dados em vários formatos, mas também podem ajudar objetos com diferentes interfaces a colaborar. Veja aqui como funciona:\n",
    "\n",
    "#### O adaptador obtém uma interface, compatível com um dos objetos existentes.\n",
    "#### Usando essa interface, o objeto existente pode chamar os métodos do adaptador com segurança.\n",
    "#### Ao receber a chamada, o adaptador passa o pedido para o segundo objeto, mas em um formato e ordem que o segundo objeto espera.\n",
    "#### Algumas vezes é possível criar um adaptador de duas vias que pode converter as chamadas em ambas as direções.\n",
    "![img](https://refactoring.guru/images/patterns/diagrams/adapter/solution-pt-br.png)\n"
   ]
  },
  {
   "cell_type": "markdown",
   "metadata": {},
   "source": [
    "#### Vamos voltar à nossa aplicação da bolsa de valores. Para resolver o dilema dos formatos incompatíveis, você pode criar adaptadores XML-para-JSON para cada classe da biblioteca de análise que seu código trabalha diretamente. Então você ajusta seu código para comunicar-se com a biblioteca através desses adaptadores. Quando um adaptador recebe uma chamada, ele traduz os dados entrantes XML em uma estrutura JSON e passa a chamada para os métodos apropriados de um objeto de análise encoberto."
   ]
  },
  {
   "cell_type": "markdown",
   "metadata": {},
   "source": [
    "### Exemplo conceitual(Código)"
   ]
  },
  {
   "cell_type": "code",
   "execution_count": 1,
   "metadata": {},
   "outputs": [
    {
     "name": "stdout",
     "output_type": "stream",
     "text": [
      "some xml\n",
      "Adapter:  READ CONTENT XML\n"
     ]
    }
   ],
   "source": [
    "class Xml:\n",
    "    def request(self) -> str:\n",
    "        return \"some xml\"\n",
    "\n",
    "class ParseXml:\n",
    "    def parse_up(self) -> str:\n",
    "        return f\"read content xml\"\n",
    "    \n",
    "class Adapter(Xml, ParseXml):\n",
    "    def request(self) -> str:\n",
    "        return f\"Adapter:  {self.parse_up().upper()}\"\n",
    "\n",
    "\n",
    "def client(target: \"target run\") -> None:\n",
    "    print(target.request())\n",
    "\n",
    "xml = Xml()\n",
    "client(xml)\n",
    "\n",
    "adapter = Adapter()\n",
    "client(adapter)\n"
   ]
  },
  {
   "cell_type": "code",
   "execution_count": 2,
   "metadata": {},
   "outputs": [
    {
     "name": "stdout",
     "output_type": "stream",
     "text": [
      "ASDFASDFASDFASDFASDFSDFASDFASDF\n",
      "Adapter Lower content\n"
     ]
    }
   ],
   "source": [
    "class ContentTXT:\n",
    "    def request(self) -> str:\n",
    "        return \"ASDFASDFASDFASDFASDFSDFASDFASDF\"\n",
    "\n",
    "\n",
    "class LowerContent:\n",
    "    def parse_request(self) -> str:\n",
    "        return f\"Lower content\"\n",
    "\n",
    "class Adapter(ContentTXT, LowerContent):\n",
    "    def request(self) -> str:\n",
    "        return f\"Adapter {self.parse_request()}\"\n",
    "    \n",
    "def client(target: \"callab\"):\n",
    "    print(target.request())\n",
    "\n",
    "\n",
    "txt = ContentTXT()\n",
    "client(txt)\n",
    "\n",
    "adapter = Adapter()\n",
    "client(adapter)"
   ]
  }
 ],
 "metadata": {
  "interpreter": {
   "hash": "128e908363acb280a47a15c84574337f3ac3285f817d31aefc25b0f997ee3c95"
  },
  "kernelspec": {
   "display_name": "Python 3.9.7 ('jupyter')",
   "language": "python",
   "name": "python3"
  },
  "language_info": {
   "codemirror_mode": {
    "name": "ipython",
    "version": 3
   },
   "file_extension": ".py",
   "mimetype": "text/x-python",
   "name": "python",
   "nbconvert_exporter": "python",
   "pygments_lexer": "ipython3",
   "version": "3.9.7"
  },
  "orig_nbformat": 4
 },
 "nbformat": 4,
 "nbformat_minor": 2
}
