{
 "cells": [
  {
   "cell_type": "markdown",
   "metadata": {},
   "source": [
    "### Chain of Responsability\n",
    "#### [Referencia 1](https://refactoring.guru/pt-br/design-patterns/chain-of-responsibility)\n",
    "#### [Referencia 2](https://www.youtube.com/watch?v=-zq_fKdkFrI&ab_channel=ProgramadorLhama)"
   ]
  },
  {
   "cell_type": "markdown",
   "metadata": {},
   "source": [
    "#### O `Chain of Responsibility` é um padrão de projeto comportamental que permite que você passe pedidos por uma corrente de handlers. Ao receber um pedido, cada handler decide se processa o pedido ou o passa adiante para o próximo handler na corrente.\n",
    "![img](https://refactoring.guru/images/patterns/content/chain-of-responsibility/chain-of-responsibility.png)"
   ]
  },
  {
   "cell_type": "markdown",
   "metadata": {},
   "source": [
    "### Problema\n",
    "\n",
    "##### Imagine que você está trabalhando em um sistema de encomendas online. Você quer restringir o acesso ao sistema para que apenas usuários autenticados possam criar pedidos. E também somente usuários que tem permissões administrativas devem ter acesso total a todos os pedidos.\n",
    "\n",
    "##### Após um pouco de planejamento, você se dá conta que essas checagens devem ser feitas sequencialmente. A aplicação pode tentar autenticar um usuário ao sistema sempre que receber um pedido que contém as credenciais do usuário. Contudo, se essas credenciais não estão corretas e a autenticação falha, não há razão para continuar com outras checagens.\n",
    "![img](https://refactoring.guru/images/patterns/diagrams/chain-of-responsibility/problem1-pt-br.png)"
   ]
  },
  {
   "cell_type": "markdown",
   "metadata": {},
   "source": [
    "#### Durante os próximos meses você implementou diversas mais daquelas checagens sequenciais.\n",
    "\n",
    "#### Um de seus colegas sugeriu que não é seguro passar dados brutos diretamente para o sistema de encomendas. Então você adicionou uma etapa adicional de validação para limpar os dados no pedido.\n",
    "\n",
    "#### Mais tarde, alguém notou que o sistema é vulnerável à ataques de força bruta. Para evitar isso, você prontamente adicionou uma checagem que filtra repetidas falhas vindas do mesmo endereço de IP.\n",
    "\n",
    "#### Outra pessoa sugeriu que você poderia agilizar o sistema se retornasse resultados de cache em pedidos repetidos contendo os mesmos dados. Portanto, você adicionou outra checagem que permite que o pedido passe através do sistema apenas se não há uma resposta adequada armazenada em cache.\n",
    "![img](https://refactoring.guru/images/patterns/diagrams/chain-of-responsibility/problem2-pt-br.png)"
   ]
  },
  {
   "cell_type": "markdown",
   "metadata": {},
   "source": [
    "### *Solução*\n",
    "\n",
    "#### Como muitos outros padrões de projeto comportamental, o Chain of Responsibility `se baseia em transformar certos comportamentos em objetos solitários chamados handlers`. No nosso caso, `cada checagem devem ser extraída` para sua própria classe com um único método que faz a checagem. O pedido, junto com seus dados, é passado para esse método como um argumento.\n",
    "\n",
    "#### `O padrão sugere que você ligue esses handlers em uma corrente.` Cada handler ligado tem um campo para armazenar uma referência ao próximo handler da corrente. Além de processar o pedido, handlers o passam adiante na corrente. O pedido viaja através da corrente até que todos os handlers tiveram uma chance de processá-lo.\n",
    "\n",
    "#### E aqui está a melhor parte: um `handler pode decidir não passar o pedido adiante na corrente` e efetivamente parar qualquer futuro processamento.\n",
    "\n",
    "#### Em nosso exemplo com sistema de encomendas, um handler realiza o processamento e então decide se passa o pedido adiante na corrente ou não. `Assumindo que o pedido contenha os dados adequados, todos os handlers podem executar seu comportamento principal, seja ele uma checagem de autenticação ou armazenamento em cache.`\n",
    "![img](https://refactoring.guru/images/patterns/diagrams/chain-of-responsibility/solution1-pt-br.png)\n"
   ]
  },
  {
   "cell_type": "markdown",
   "metadata": {},
   "source": [
    "#### Contudo, há uma abordagem ligeiramente diferente (e um tanto quanto canônica) na qual, ao receber o pedido, `um handler decide se ele pode processá-lo ou não`. Se ele pode, ele não passa o pedido adiante. Então é um handler que processa o pedido ou mais ninguém. Essa abordagem é muito comum quando lidando com eventos em pilha de elementos dentro de uma interface gráfica de usuário.\n",
    "\n",
    "#### Por exemplo, quando um usuário clica um botão, `o evento se propaga através da corrente de elementos GUI que começam com aquele botão,` prossegue para seus contêineres (como planilhas ou painéis), e termina com a janela principal da aplicação. O evento é processado pelo primeiro elemento na corrente que é capaz de lidar com ele. Esse exemplo também é notável porque ele mostra que uma corrente pode sempre ser extraída de um objeto árvore.\n",
    "\n",
    "#### *É crucial que todas as classes handler implementem a mesma interface. Cada handler concreto deve se importar apenas se o seguinte tem o método executar. Dessa maneira você pode compor correntes durante a execução, usando vários handlers sem acoplar seu código com suas classes concretas.*\n",
    "![img](https://refactoring.guru/images/patterns/diagrams/chain-of-responsibility/solution2-pt-br.png)"
   ]
  },
  {
   "cell_type": "markdown",
   "metadata": {},
   "source": [
    "#### Você acabou de comprar e instalar um novo hardware em seu computador. Como você é um geek, o computador tem diversos sistemas operacionais instalados. Você tenta ligar todos eles para ver se o hardware é suportado. O Windows detecta e ativa o hardware automaticamente. Contudo, seu amado Linux se recusa a trabalhar com o novo hardware. Com uma pequena ponta de esperança, você decide ligar para o número do suporte técnico escrito na caixa.\n",
    "\n",
    "#### A primeira coisa que você ouve é uma voz robótica do outro lado. Ela sugere nove soluções populares para vários problemas, nenhum dos quais é relevante para seu caso. Após um tempo, a voz robótica conecta você com um operador de carne e osso.\n",
    "\n",
    "#### Infelizmente, o operador não foi capaz de sugerir algo específico também. Ele continuava recitando longos protocolos do manual, se recusando a escutar seus comentários. Após escutar a frase “você tentou desligar e ligar o computador” pela décima vez, você exige ser conectado a um engenheiro.\n",
    "\n",
    "#### Eventualmente o operador passa sua chamada para um dos engenheiros, que estava ansioso por contato humano já que estava sentado por horas em sua escura sala do servidor no subsolo de algum prédio. O engenheiro lhe diz onde baixar os drivers apropriados para seu novo hardware e como instalá-los no Linux. Finalmente, a solução! Você termina sua chamada, transbordando de alegria.\n",
    "![img](https://refactoring.guru/images/patterns/content/chain-of-responsibility/chain-of-responsibility-comic-1-pt-br.png)"
   ]
  },
  {
   "cell_type": "markdown",
   "metadata": {},
   "source": [
    "### Exemplo conceitual(Código)\n"
   ]
  },
  {
   "cell_type": "code",
   "execution_count": 24,
   "metadata": {},
   "outputs": [
    {
     "name": "stdout",
     "output_type": "stream",
     "text": [
      "Processando validacao\n",
      "Embrulhando pedido para presente!\n",
      "Fechando pedido de brinquedo!\n",
      "Fechando pedido de brinquedo!\n"
     ]
    },
    {
     "ename": "AssertionError",
     "evalue": "Numero de pedidos passado incorreto!",
     "output_type": "error",
     "traceback": [
      "\u001b[0;31m---------------------------------------------------------------------------\u001b[0m",
      "\u001b[0;31mAssertionError\u001b[0m                            Traceback (most recent call last)",
      "\u001b[1;32m/home/gregorio/Documentos/PROJETOS/APRENDIZADO/Padroes-de-Projetos/ChainofResponsability.ipynb Cell 9'\u001b[0m in \u001b[0;36m<cell line: 71>\u001b[0;34m()\u001b[0m\n\u001b[1;32m     <a href='vscode-notebook-cell:/home/gregorio/Documentos/PROJETOS/APRENDIZADO/Padroes-de-Projetos/ChainofResponsability.ipynb#ch0000009?line=68'>69</a>\u001b[0m pedidos \u001b[39m=\u001b[39m [{\u001b[39m'\u001b[39m\u001b[39mtipo\u001b[39m\u001b[39m'\u001b[39m: \u001b[39m'\u001b[39m\u001b[39mcoisa\u001b[39m\u001b[39m'\u001b[39m}, {\u001b[39m'\u001b[39m\u001b[39mtipo\u001b[39m\u001b[39m'\u001b[39m: \u001b[39m'\u001b[39m\u001b[39mbrinquedo\u001b[39m\u001b[39m'\u001b[39m}]\n\u001b[1;32m     <a href='vscode-notebook-cell:/home/gregorio/Documentos/PROJETOS/APRENDIZADO/Padroes-de-Projetos/ChainofResponsability.ipynb#ch0000009?line=69'>70</a>\u001b[0m loja \u001b[39m=\u001b[39m LojaPedidosOnline(pedidos)\n\u001b[0;32m---> <a href='vscode-notebook-cell:/home/gregorio/Documentos/PROJETOS/APRENDIZADO/Padroes-de-Projetos/ChainofResponsability.ipynb#ch0000009?line=70'>71</a>\u001b[0m loja\u001b[39m.\u001b[39;49mexecutar_pedidos()\n",
      "\u001b[1;32m/home/gregorio/Documentos/PROJETOS/APRENDIZADO/Padroes-de-Projetos/ChainofResponsability.ipynb Cell 9'\u001b[0m in \u001b[0;36mLojaPedidosOnline.executar_pedidos\u001b[0;34m(self)\u001b[0m\n\u001b[1;32m     <a href='vscode-notebook-cell:/home/gregorio/Documentos/PROJETOS/APRENDIZADO/Padroes-de-Projetos/ChainofResponsability.ipynb#ch0000009?line=53'>54</a>\u001b[0m \u001b[39mdef\u001b[39;00m \u001b[39mexecutar_pedidos\u001b[39m(\u001b[39mself\u001b[39m) \u001b[39m-\u001b[39m\u001b[39m>\u001b[39m \u001b[39mNone\u001b[39;00m:\n\u001b[0;32m---> <a href='vscode-notebook-cell:/home/gregorio/Documentos/PROJETOS/APRENDIZADO/Padroes-de-Projetos/ChainofResponsability.ipynb#ch0000009?line=54'>55</a>\u001b[0m     \u001b[39massert\u001b[39;00m \u001b[39mself\u001b[39m\u001b[39m.\u001b[39mvalidar_pedidos_qtde(), \u001b[39m'\u001b[39m\u001b[39mNumero de pedidos passado incorreto!\u001b[39m\u001b[39m'\u001b[39m\n\u001b[1;32m     <a href='vscode-notebook-cell:/home/gregorio/Documentos/PROJETOS/APRENDIZADO/Padroes-de-Projetos/ChainofResponsability.ipynb#ch0000009?line=55'>56</a>\u001b[0m     \u001b[39mfor\u001b[39;00m handle, pedido \u001b[39min\u001b[39;00m \u001b[39mzip\u001b[39m(\u001b[39mself\u001b[39m\u001b[39m.\u001b[39mfila_execucao, \u001b[39mself\u001b[39m\u001b[39m.\u001b[39mfila_pedidos):\n\u001b[1;32m     <a href='vscode-notebook-cell:/home/gregorio/Documentos/PROJETOS/APRENDIZADO/Padroes-de-Projetos/ChainofResponsability.ipynb#ch0000009?line=56'>57</a>\u001b[0m         \u001b[39mif\u001b[39;00m handle\u001b[39m.\u001b[39mvalidacao(pedido):\n",
      "\u001b[0;31mAssertionError\u001b[0m: Numero de pedidos passado incorreto!"
     ]
    }
   ],
   "source": [
    "from abc import abstractmethod, ABC\n",
    "\n",
    "class PedidosOnline(ABC):\n",
    "    @abstractmethod\n",
    "    def validacao(self, **kwargs):\n",
    "        ...\n",
    "    \n",
    "    @abstractmethod\n",
    "    def execucao(self, *args):\n",
    "        ...\n",
    "      \n",
    "        \n",
    "class Autenticacao(PedidosOnline):\n",
    "    def validacao(self, kwargs) -> bool:\n",
    "        if kwargs.get('tipo', '') == 'validacao':\n",
    "            return True\n",
    "        return False\n",
    "    \n",
    "    def execucao(self) -> None:\n",
    "        print('Processando validacao')\n",
    "    \n",
    "\n",
    "\n",
    "class PedidoPresente(PedidosOnline):\n",
    "    def validacao(self, args) -> bool:\n",
    "        if args.get('tipo', '') == 'presente':\n",
    "            return True\n",
    "        return False\n",
    "    \n",
    "    def execucao(self, *args) -> None:\n",
    "        print(\"Embrulhando pedido para presente!\")\n",
    "\n",
    "\n",
    "class FechandoPedidoBrinquedo(PedidosOnline):\n",
    "    def validacao(self, args) -> bool:\n",
    "        if args.get('tipo', '') == 'brinquedo':\n",
    "            return True\n",
    "        return False\n",
    "    \n",
    "    def execucao(self) -> None:\n",
    "        print('Fechando pedido de brinquedo!')\n",
    "    \n",
    "class LojaPedidosOnline:\n",
    "    def __init__(self, fila_pedidos: list) -> None:\n",
    "        self.fila_pedidos: list = fila_pedidos\n",
    "        self.fila_execucao: list = [Autenticacao(), PedidoPresente(), \n",
    "                                    FechandoPedidoBrinquedo()]\n",
    "        \n",
    "    def validar_pedidos_qtde(self) -> bool:\n",
    "        if len(self.fila_pedidos) == len(self.fila_execucao):\n",
    "            return True\n",
    "        return False\n",
    "        \n",
    "    def executar_pedidos(self) -> None:\n",
    "        assert self.validar_pedidos_qtde(), 'Numero de pedidos passado incorreto!'\n",
    "        for handle, pedido in zip(self.fila_execucao, self.fila_pedidos):\n",
    "            if handle.validacao(pedido):\n",
    "                handle.execucao()\n",
    "            \n",
    "\n",
    "pedidos = [{'tipo': 'validacao'}, {'tipo': 'presente'}, {'tipo': 'brinquedo'}]\n",
    "loja = LojaPedidosOnline(pedidos)\n",
    "loja.executar_pedidos()\n",
    "\n",
    "pedidos = [{'tipo': ''}, {'tipo': ''}, {'tipo': 'brinquedo'}]\n",
    "loja = LojaPedidosOnline(pedidos)\n",
    "loja.executar_pedidos()\n",
    "\n",
    "pedidos = [{'tipo': 'coisa'}, {'tipo': 'brinquedo'}]\n",
    "loja = LojaPedidosOnline(pedidos)\n",
    "loja.executar_pedidos()\n"
   ]
  }
 ],
 "metadata": {
  "interpreter": {
   "hash": "128e908363acb280a47a15c84574337f3ac3285f817d31aefc25b0f997ee3c95"
  },
  "kernelspec": {
   "display_name": "Python 3.10.4 ('jupyter')",
   "language": "python",
   "name": "python3"
  },
  "language_info": {
   "codemirror_mode": {
    "name": "ipython",
    "version": 3
   },
   "file_extension": ".py",
   "mimetype": "text/x-python",
   "name": "python",
   "nbconvert_exporter": "python",
   "pygments_lexer": "ipython3",
   "version": "3.10.4"
  },
  "orig_nbformat": 4
 },
 "nbformat": 4,
 "nbformat_minor": 2
}
