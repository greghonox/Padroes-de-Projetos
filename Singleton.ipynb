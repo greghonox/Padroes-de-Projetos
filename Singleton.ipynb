{
 "cells": [
  {
   "cell_type": "code",
   "execution_count": null,
   "metadata": {},
   "outputs": [],
   "source": [
    "### Singleton\n",
    "#### [Referencia 1](https://refactoring.guru/pt-br/design-patterns/singleton)\n",
    "#### [Referencia 2](https://www.youtube.com/watch?v=mHbwLNNkqaU&list=PLAgbpJQADBGIOOJIolD0f_oJd3hNJCLK7&index=4&ab_channel=ProgramadorLhama)\n"
   ]
  },
  {
   "cell_type": "markdown",
   "metadata": {},
   "source": [
    "#### O `Singleton` é um padrão de projeto criacional que permite a você garantir que uma classe tenha apenas uma instância, enquanto provê um ponto de acesso global para essa instância.\n",
    "![img](https://refactoring.guru/images/patterns/content/singleton/singleton.png)"
   ]
  },
  {
   "cell_type": "markdown",
   "metadata": {},
   "source": [
    "### Problema\n",
    "#### O padrão Singleton resolve dois problemas de uma só vez, violando o princípio de responsabilidade única:\n",
    "\n",
    "#### Garantir que uma classe tenha apenas uma única instância. Por que alguém iria querer controlar quantas instâncias uma classe tem? A razão mais comum para isso é para controlar o acesso a algum recurso compartilhado—por exemplo, uma base de dados ou um arquivo.\n",
    "\n",
    "#### Funciona assim: imagine que você criou um objeto, mas depois de um tempo você decidiu criar um novo. Ao invés de receber um objeto fresco, você obterá um que já foi criado.\n",
    "\n",
    "#### Observe que esse comportamento é impossível implementar com um construtor regular uma vez que uma chamada do construtor deve sempre retornar um novo objeto por design.\n",
    "\n"
   ]
  }
 ],
 "metadata": {
  "language_info": {
   "name": "python"
  },
  "orig_nbformat": 4
 },
 "nbformat": 4,
 "nbformat_minor": 2
}
