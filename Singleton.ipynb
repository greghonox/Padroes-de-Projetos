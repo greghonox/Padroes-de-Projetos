{
 "cells": [
  {
   "cell_type": "code",
   "execution_count": null,
   "metadata": {},
   "outputs": [
    {
     "ename": "",
     "evalue": "",
     "output_type": "error",
     "traceback": [
      "\u001b[1;31mRunning cells with 'Python 3.9.7 ('jupyter')' requires ipykernel package.\n",
      "Run the following command to install 'ipykernel' into the Python environment. \n",
      "Command: '/home/gregorio/.virtualenvs/jupyter/bin/python -m pip install ipykernel -U --force-reinstall'"
     ]
    }
   ],
   "source": [
    "### Singleton\n",
    "#### [Referencia 1](https://refactoring.guru/pt-br/design-patterns/singleton)\n",
    "#### [Referencia 2](https://www.youtube.com/watch?v=mHbwLNNkqaU&list=PLAgbpJQADBGIOOJIolD0f_oJd3hNJCLK7&index=4&ab_channel=ProgramadorLhama)\n"
   ]
  },
  {
   "cell_type": "markdown",
   "metadata": {},
   "source": [
    "#### O `Singleton` é um padrão de projeto criacional que permite a você garantir que uma classe tenha apenas uma instância, enquanto provê um ponto de acesso global para essa instância.\n",
    "![img](https://refactoring.guru/images/patterns/content/singleton/singleton.png)"
   ]
  },
  {
   "cell_type": "markdown",
   "metadata": {},
   "source": [
    "### Problema\n",
    "#### O padrão `Singleton` resolve *dois problemas de uma só vez*, violando o princípio de responsabilidade única:\n",
    "\n",
    "#### `Garantir que uma classe tenha apenas uma única instância.` Por que alguém iria querer controlar quantas instâncias uma classe tem? A razão mais comum para isso é para `controlar o acesso a algum recurso compartilhado—por exemplo`, uma base de dados ou um arquivo.\n",
    "\n",
    "#### Funciona assim: imagine que `você criou um objeto`, mas depois de um tempo você decidiu criar um novo. Ao invés de receber um objeto fresco, você obterá um que já foi criado.\n",
    "\n",
    "#### Observe que esse `comportamento é impossível implementar com um construtor regular` uma vez que uma chamada do construtor deve sempre retornar um novo objeto por design.\n",
    "![img](https://refactoring.guru/images/patterns/content/singleton/singleton-comic-1-pt-br.png)"
   ]
  },
  {
   "cell_type": "markdown",
   "metadata": {},
   "source": [
    "#### `Fornece um ponto de acesso global para aquela instância`. Se lembra daquelas variáveis globais que você (tá bom, eu) usou para guardar alguns objetos essenciais? `Embora sejam muito úteis, elas também são muito inseguras uma vez que qualquer código pode potencialmente sobrescrever os conteúdos daquelas variáveis e quebrar a aplicação.`\n",
    "\n",
    "#### Assim como uma variável global, o padrão Singleton permite que você acesse algum objeto de qualquer lugar no programa. Contudo, ele também protege aquela instância de ser sobrescrita por outro código.\n",
    "\n",
    "#### Há outro lado para esse problema: `você não quer que o código que resolve o problema #1 fique espalhado por todo seu programa.` É muito melhor tê-lo dentro de uma classe, especialmente se o resto do seu código já depende dela.\n",
    "\n",
    "#### Hoje em dia, o padrão Singleton se tornou tão popular que as pessoas podem chamar algo de singleton mesmo se ele resolve apenas um dos problemas listados."
   ]
  },
  {
   "cell_type": "markdown",
   "metadata": {},
   "source": [
    "### Exemplo conceitual(Código)"
   ]
  },
  {
   "cell_type": "code",
   "execution_count": 23,
   "metadata": {},
   "outputs": [
    {
     "name": "stdout",
     "output_type": "stream",
     "text": [
      "{'obj': 'inicia'}\n",
      "{'obj': 'permance'}\n",
      "{'obj': 'novo estado'} {'obj': 'novo estado'}\n"
     ]
    }
   ],
   "source": [
    "class A:\n",
    "    def __init__(self, instances: str={'obj':'inicia'}) -> None:\n",
    "        self._instances = instances\n",
    "        \n",
    "a = A()\n",
    "print(a._instances)\n",
    "a._instances = {'obj': 'permance'}\n",
    "print(a._instances)\n",
    "b = a\n",
    "b._instances = {'obj': 'novo estado'}\n",
    "print(a._instances, b._instances)\n",
    "\n"
   ]
  }
 ],
 "metadata": {
  "interpreter": {
   "hash": "128e908363acb280a47a15c84574337f3ac3285f817d31aefc25b0f997ee3c95"
  },
  "kernelspec": {
   "display_name": "Python 3.9.7 ('jupyter')",
   "language": "python",
   "name": "python3"
  },
  "language_info": {
   "codemirror_mode": {
    "name": "ipython",
    "version": 3
   },
   "file_extension": ".py",
   "mimetype": "text/x-python",
   "name": "python",
   "nbconvert_exporter": "python",
   "pygments_lexer": "ipython3",
   "version": "3.10.4"
  },
  "orig_nbformat": 4
 },
 "nbformat": 4,
 "nbformat_minor": 2
}
