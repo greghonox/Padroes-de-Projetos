{
 "cells": [
  {
   "cell_type": "markdown",
   "metadata": {},
   "source": [
    "## Factory Method\n",
    "#### [Referencia](link-url \"https://refactoring.guru/pt-br/design-patterns/factory-method\")"
   ]
  },
  {
   "cell_type": "markdown",
   "metadata": {},
   "source": [
    "#### O Factory Method é um padrão criacional de projeto que fornece uma interface para criar objetos em uma superclasse, mas permite que as subclasses alterem o tipo de objetos que serão criados.\n",
    "![img](https://refactoring.guru/images/patterns/content/factory-method/factory-method-pt-br.png)"
   ]
  },
  {
   "cell_type": "markdown",
   "metadata": {},
   "source": [
    "### Problema\n",
    "#### Imagine que você está criando uma aplicação de gerenciamento de logística. A primeira versão da sua aplicação pode lidar apenas com o transporte de caminhões, portanto a maior parte do seu código fica dentro da classe `Caminhão`.\n",
    "\n",
    "#### Depois de um tempo, sua aplicação se torna bastante popular. Todos os dias você recebe dezenas de solicitações de empresas de transporte marítimo para incorporar a logística marítima na aplicação.\n",
    "\n",
    "![img](https://refactoring.guru/images/patterns/diagrams/factory-method/problem1-pt-br.png)"
   ]
  },
  {
   "cell_type": "markdown",
   "metadata": {},
   "source": [
    "#### Boa notícia, certo? Mas e o código? Atualmente, a maior parte do seu código é acoplada à classe `Caminhão`. Adicionar **Navio** à aplicação exigiria alterações em toda a base de código. Além disso, se mais tarde você decidir adicionar outro tipo de transporte à aplicação, provavelmente precisará fazer todas essas alterações novamente.\n",
    "\n",
    "#### Como resultado, você terá um código bastante sujo, repleto de condicionais que alteram o comportamento da aplicação, dependendo da classe de objetos de transporte.\n",
    "\n"
   ]
  },
  {
   "cell_type": "markdown",
   "metadata": {},
   "source": [
    "### Solução\n",
    "#### O padrão Factory Method sugere que você substitua chamadas diretas de construção de objetos (usando o operador **new**) por chamadas para um método fábrica especial. Não se preocupe: os objetos ainda são criados através do operador new, mas esse está sendo chamado de dentro do método fábrica. Objetos retornados por um método fábrica geralmente são chamados de produtos.\n",
    "![img](https://refactoring.guru/images/patterns/diagrams/factory-method/solution1.png)\n"
   ]
  },
  {
   "cell_type": "markdown",
   "metadata": {},
   "source": [
    "#### À primeira vista, essa mudança pode parecer sem sentido: apenas mudamos a chamada do construtor de uma parte do programa para outra. No entanto, considere o seguinte: agora você pode __sobrescrever o método fábrica em uma subclasse e alterar a classe de produtos que estão sendo criados pelo método__.\n",
    "\n",
    "#### Porém, há uma pequena limitação: as __subclasses só podem retornar tipos diferentes de produtos se esses produtos tiverem uma classe ou interface base em comum. Além disso, o método fábrica na classe base deve ter seu tipo de retorno declarado como essa interface.__\n",
    "![img](https://refactoring.guru/images/patterns/diagrams/factory-method/solution2-pt-br.png)"
   ]
  },
  {
   "cell_type": "markdown",
   "metadata": {},
   "source": [
    "#### Por exemplo, ambas as classes `Caminhão` e Navio devem implementar a interface Transporte, que declara um método chamado entregar. Cada classe implementa esse método de maneira diferente: __caminhões entregam carga por terra, navios entregam carga por mar.__ O método fábrica na **classe LogísticaViária retorna objetos de caminhão, enquanto o método fábrica na classe LogísticaMarítima retorna navios.**\n",
    "![img](https://refactoring.guru/images/patterns/diagrams/factory-method/solution3-pt-br.png)"
   ]
  },
  {
   "cell_type": "markdown",
   "metadata": {},
   "source": [
    "#### O código que usa o método fábrica (geralmente chamado de código cliente) **não vê diferença entre os produtos reais retornados por várias subclasses**. O cliente trata todos os produtos como um **Transporte abstrato**. O cliente sabe que todos os objetos de transporte devem ter o método entregar, __mas como exatamente ele funciona não é importante para o cliente.__"
   ]
  },
  {
   "cell_type": "markdown",
   "metadata": {},
   "source": [
    "### Exemplo conceitual(Código)"
   ]
  },
  {
   "cell_type": "code",
   "execution_count": 6,
   "metadata": {},
   "outputs": [
    {
     "name": "stdout",
     "output_type": "stream",
     "text": [
      "Indo entregar Navio pela agua\n",
      "Indo entregar Caminhao pela pista\n",
      "Indo entregar Moto bem rapido\n"
     ]
    }
   ],
   "source": [
    "from abc import abstractmethod, ABC\n",
    "\n",
    "class LogisticaApp(ABC):\n",
    "    @abstractmethod\n",
    "    def entregar(self):\n",
    "        ...\n",
    "    \n",
    "    def __repr__(self):\n",
    "        return f'{self.__class__.__name__}'\n",
    "\n",
    "class Navio(LogisticaApp):\n",
    "    def entregar(self):\n",
    "        print(f'Indo entregar {self} pela agua')\n",
    "\n",
    "\n",
    "class Caminhao(LogisticaApp):\n",
    "    def entregar(self):\n",
    "        print(f'Indo entregar {self} pela pista')\n",
    "\n",
    "\n",
    "class Moto(LogisticaApp):\n",
    "    def entregar(self):\n",
    "        print(f'Indo entregar {self} bem rapido')    \n",
    "        \n",
    "    \n",
    "class Fabricar:\n",
    "    def entregar(self, tipo):\n",
    "        if isinstance(tipo, str):\n",
    "            eval(tipo)().entregar()\n",
    "        else:\n",
    "            tipo().entregar()\n",
    "        \n",
    "entregar = Fabricar()\n",
    "entregar.entregar(Navio)\n",
    "entregar.entregar(Caminhao)\n",
    "entregar.entregar('Moto')\n"
   ]
  }
 ],
 "metadata": {
  "kernelspec": {
   "display_name": "Python 3",
   "language": "python",
   "name": "python3"
  },
  "language_info": {
   "codemirror_mode": {
    "name": "ipython",
    "version": 3
   },
   "file_extension": ".py",
   "mimetype": "text/x-python",
   "name": "python",
   "nbconvert_exporter": "python",
   "pygments_lexer": "ipython3",
   "version": "3.8.12 (default, Nov 10 2022, 13:25:00) \n[GCC 11.3.0]"
  },
  "orig_nbformat": 4,
  "vscode": {
   "interpreter": {
    "hash": "e6b58329721543a57e7a20b2224a4c0b9c830138252e82da2306432d8b6b5411"
   }
  }
 },
 "nbformat": 4,
 "nbformat_minor": 2
}
