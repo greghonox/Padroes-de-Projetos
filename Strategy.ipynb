{
 "cells": [
  {
   "cell_type": "markdown",
   "metadata": {},
   "source": [
    "### Strategy\n",
    "#### [Referencia 1](https://refactoring.guru/pt-br/design-patterns/strategy)\n",
    "#### [Referencia 2](https://www.youtube.com/watch?v=UCyqiYC_Ups&list=PLAgbpJQADBGIOOJIolD0f_oJd3hNJCLK7&index=5&ab_channel=ProgramadorLhama)"
   ]
  },
  {
   "cell_type": "markdown",
   "metadata": {},
   "source": [
    "#### O `Strategy` é um padrão de projeto comportamental que permite que você defina uma família de algoritmos, coloque-os em classes separadas, e faça os objetos deles intercambiáveis.\n",
    "![img](https://refactoring.guru/images/patterns/content/strategy/strategy.png)"
   ]
  },
  {
   "cell_type": "markdown",
   "metadata": {},
   "source": [
    "### Problema\n",
    "#### Um dia você decide criar uma aplicação de navegação para viajantes casuais. A aplicação estava centrada em um mapa bonito que ajudava os usuários a se orientarem rapidamente em uma cidade.\n",
    "\n",
    "##### Uma das funcionalidades mais pedidas para a aplicação era o planejamento automático de rotas. Um usuário deveria ser capaz de entrar com um endereço e ver a rota mais rápida no mapa.\n",
    "\n",
    "##### A primeira versão da aplicação `podia apenas construir rotas sobre rodovias, e isso agradou muito quem viaja de carro. Porém aparentemente, nem todo mundo dirige em suas férias.` Então com a próxima atualização você `adicionou uma opção de construir rotas de caminhada`. Logo após isso você `adicionou outra opção para permitir que as pessoas usem o transporte público.`\n",
    "\n",
    "##### Contudo, isso foi apenas o começo. Mais tarde você planejou `adicionar um construtor de rotas para ciclistas`. E mais tarde, outra opção para construir rotas até todas as atrações turísticas de uma cidade.\n",
    "![img](https://refactoring.guru/images/patterns/diagrams/strategy/problem.png)"
   ]
  },
  {
   "cell_type": "markdown",
   "metadata": {},
   "source": [
    "#### Embora da perspectiva de negócio a aplicação *tenha sido um sucesso*, a parte técnica causou a você muitas dores de cabeça. Cada vez que você adicionava um novo algoritmo de roteamento, a `classe principal do navegador dobrava de tamanho`. Em determinado momento, o `monstro se tornou algo muito difícil de se manter`.\n",
    "\n",
    "#### Qualquer `mudança a um dos algoritmos, seja uma simples correção de bug ou um pequeno ajuste no valor das ruas, afetava toda a classe`, aumentando a chance de criar um erro no código já existente.\n",
    "\n",
    "#### Além disso, o trabalho em equipe se tornou ineficiente. Seus companheiros de equipe, que foram contratados após ao bem sucedido lançamento do produto, se queixavam que gastavam muito tempo resolvendo conflitos de fusão. Implementar novas funcionalidades necessitava mudanças na classe gigantesca, conflitando com os códigos criados por outras pessoas."
   ]
  },
  {
   "cell_type": "markdown",
   "metadata": {},
   "source": [
    "### Solução\n",
    "#### O padrão Strategy sugere que você pegue uma `classe que faz algo específico em diversas maneiras diferentes` e __extraia todos esses algoritmos para classes separadas chamadas estratégias.__\n",
    "\n",
    "#### A classe original, chamada contexto, deve ter um campo para armazenar uma referência para um dessas estratégias. O contexto delega o trabalho para um objeto estratégia ao invés de executá-lo por conta própria.\n",
    "\n",
    "#### O contexto não é responsável por selecionar um algoritmo apropriado para o trabalho. Ao invés disso, *o cliente passa a estratégia desejada para o contexto. Na verdade, o contexto não sabe muito sobre as estratégias*. Ele trabalha com todas elas através de uma interface genérica, que somente expõe um único método para acionar o algoritmo encapsulado dentro da estratégia selecionada.\n",
    "\n",
    "#### Desta forma o *contexto se torna independente das estratégias concretas*, então você pode __adicionar novos algoritmos ou modificar os existentes sem modificar o código do contexto ou outras estratégias.__"
   ]
  },
  {
   "cell_type": "markdown",
   "metadata": {},
   "source": [
    "### Exemplo conceitual(Código)"
   ]
  },
  {
   "cell_type": "code",
   "execution_count": 1,
   "metadata": {},
   "outputs": [
    {
     "name": "stdout",
     "output_type": "stream",
     "text": [
      "DEFININDO no habilidades Guerreiro\n",
      "DEFININDO no estilo_luta Guerreiro\n",
      "CAME RAME HAAAAAA GEIKEDAMA GEIKEDAMA GEIKEDAMA GEIKEDAMA GEIKEDAMA GEIKEDAMA GEIKEDAMA GEIKEDAMA GEIKEDAMA GEIKEDAMA \n",
      "MINHAS HABILIDADES SAO:\n",
      "magia\n",
      "desaparecer\n",
      "curar\n",
      "DEFININDO no habilidades Guerreiro\n",
      "DEFININDO no estilo_luta Guerreiro\n",
      "AI...IA...\n",
      "MINHAS HABILIDADES SAO:\n",
      "pular\n",
      "correr\n",
      "calguar\n",
      "domar cavalo\n"
     ]
    }
   ],
   "source": [
    "from typing import Type, Callable\n",
    "from abc import abstractmethod, ABC\n",
    "\n",
    "\n",
    "class Guerreiro(ABC):\n",
    "    @abstractmethod\n",
    "    def __init__(self, habilidades: Type[list],\n",
    "                 estilo_luta: Type[list]) -> None:\n",
    "        self.set_habilidades(habilidades)\n",
    "        self.set_estilo_luta(estilo_luta)\n",
    "\n",
    "    def exibir_habilidades(self):\n",
    "        print('MINHAS HABILIDADES SAO:')\n",
    "        for habilidade in self.habilidades:\n",
    "            print(habilidade)\n",
    "\n",
    "    @abstractmethod\n",
    "    def set_habilidades(self, habilidades: Type[list]):\n",
    "        print(f\"DEFININDO no habilidades Guerreiro\")\n",
    "        self.habilidades = habilidades\n",
    "\n",
    "    @abstractmethod\n",
    "    def set_estilo_luta(self, estilo_luta: Type[list]) -> None:\n",
    "        print(f\"DEFININDO no estilo_luta Guerreiro\")\n",
    "        self.estilo_luta = estilo_luta\n",
    "\n",
    "    @abstractmethod\n",
    "    def especial(self, poder: Callable) -> str:\n",
    "        return poder()\n",
    "\n",
    "\n",
    "class Mago(Guerreiro):\n",
    "    def __init__(self, habilidades: Type[list],\n",
    "                 estilo_luta: Type[list]) -> None:\n",
    "        super().__init__(habilidades, estilo_luta)\n",
    "\n",
    "    def set_habilidades(self, habilidades) -> None:\n",
    "        super().set_habilidades(habilidades)\n",
    "\n",
    "    def set_estilo_luta(self, estilo_luta) -> None:\n",
    "        super().set_estilo_luta(estilo_luta)\n",
    "\n",
    "    def especial(self, poder: Callable) -> str:\n",
    "        return 'CAME RAME HAAAAAA ' + poder()\n",
    "\n",
    "\n",
    "class Cavaleiro(Guerreiro):\n",
    "    def __init__(self, habilidades: Type[list],\n",
    "                 estilo_luta: Type[list]) -> None:\n",
    "        super().__init__(habilidades, estilo_luta)\n",
    "\n",
    "    def set_habilidades(self, habilidades) -> None:\n",
    "        super().set_habilidades(habilidades)\n",
    "\n",
    "    def set_estilo_luta(self, estilo_luta) -> None:\n",
    "        super().set_estilo_luta(estilo_luta)\n",
    "\n",
    "    def especial(self, poder) -> str:\n",
    "        return poder()\n",
    "\n",
    "\n",
    "mago = Mago(['magia', 'desaparecer', 'curar'],\n",
    "            ['luta distancia', 'envoca magias'])\n",
    "print(mago.especial(lambda: 'GEIKEDAMA ' * 10))\n",
    "mago.exibir_habilidades()\n",
    "\n",
    "cavaleiro = Cavaleiro(['pular', 'correr', 'calguar', 'domar cavalo'],\n",
    "                      ['luta espada', 'defende com escudor'])\n",
    "print(cavaleiro.especial(lambda: 'AI...IA...'))\n",
    "cavaleiro.exibir_habilidades()\n"
   ]
  }
 ],
 "metadata": {
  "interpreter": {
   "hash": "128e908363acb280a47a15c84574337f3ac3285f817d31aefc25b0f997ee3c95"
  },
  "kernelspec": {
   "display_name": "Python 3.9.7 ('jupyter')",
   "language": "python",
   "name": "python3"
  },
  "language_info": {
   "codemirror_mode": {
    "name": "ipython",
    "version": 3
   },
   "file_extension": ".py",
   "mimetype": "text/x-python",
   "name": "python",
   "nbconvert_exporter": "python",
   "pygments_lexer": "ipython3",
   "version": "3.10.4"
  },
  "orig_nbformat": 4
 },
 "nbformat": 4,
 "nbformat_minor": 2
}
