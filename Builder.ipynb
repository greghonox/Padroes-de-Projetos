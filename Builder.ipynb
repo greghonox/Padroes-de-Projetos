{
 "cells": [
  {
   "cell_type": "markdown",
   "metadata": {},
   "source": [
    "### Builder\n",
    "##### [Referencia 1](https://refactoring.guru/pt-br/design-patterns/builder)"
   ]
  },
  {
   "cell_type": "markdown",
   "metadata": {},
   "source": [
    "#### O `Builder` é um padrão de projeto criacional que permite a você construir objetos complexos passo a passo. O padrão permite que você produza diferentes tipos e representações de um objeto usando o mesmo código de construção.\n",
    "![img](https://refactoring.guru/images/patterns/content/builder/builder-pt-br.png)"
   ]
  },
  {
   "cell_type": "markdown",
   "metadata": {},
   "source": [
    "#### Imagine um `objeto complexo` que necessite de uma inicialização passo a passo trabalhosa de muitos campos e objetos agrupados. Tal código de inicialização fica geralmente enterrado dentro de um `construtor monstruoso com vários parâmetros`. Ou pior: espalhado por todo o código cliente.\n",
    "![img](https://refactoring.guru/images/patterns/diagrams/builder/problem1.png)"
   ]
  },
  {
   "cell_type": "markdown",
   "metadata": {},
   "source": [
    "#### Por exemplo, vamos pensar sobre como criar um objeto `Casa`. Para construir uma casa simples, você precisa construir quatro paredes e um piso, instalar uma porta, encaixar um par de janelas, e construir um teto. Mas e se você quiser uma casa maior e mais iluminada, com um jardim e outras miudezas (como um sistema de aquecimento, encanamento, e fiação elétrica)?\n",
    "\n",
    "#### `A solução mais simples é estender a classe base Casa e criar um conjunto de subclasses para cobrir todas as combinações de parâmetros`. Mas eventualmente você acabará com um número considerável de subclasses. Qualquer novo parâmetro, tal como o estilo do pórtico, irá forçá-lo a aumentar essa hierarquia cada vez mais.\n",
    "\n",
    "#### Há outra abordagem que não envolve a propagação de subclasses. `Você pode criar um construtor gigante diretamente na classe Casa base com todos os possíveis parâmetros que controlam o objeto casa.` Embora essa abordagem realmente elimine a necessidade de subclasses, ela cria outro problema.\n",
    "![img](https://refactoring.guru/images/patterns/diagrams/builder/problem2.png)"
   ]
  },
  {
   "cell_type": "markdown",
   "metadata": {},
   "source": [
    "#### `Na maioria dos casos a maioria dos parâmetros não será usada, tornando as chamadas do construtor em algo feio de se ver`. Por exemplo, apenas algumas casas têm piscinas, então os parâmetros relacionados a piscinas serão inúteis nove em cada dez vezes.\n",
    "\n",
    "### Solução\n",
    "\n",
    "#### O padrão Builder sugere que você extraia o código de `construção do objeto para fora de sua própria classe e mova ele para objetos separados chamados builders`. “Builder” significa “construtor”, mas não usaremos essa palavra para evitar confusão com os construtores de classe.\n",
    "![img](https://refactoring.guru/images/patterns/diagrams/builder/solution1.png)\n"
   ]
  },
  {
   "cell_type": "markdown",
   "metadata": {},
   "source": [
    "#### `O padrão organiza a construção de objetos em uma série de etapas (construirParedes, construirPorta, etc.)`. Para criar um objeto você executa uma série de etapas em um objeto builder. A parte importante é que você não precisa chamar todas as etapas. Você chama apenas aquelas etapas que são necessárias para a produção de uma configuração específica de um objeto.\n",
    "\n",
    "#### Algumas das etapas de `construção podem necessitar de implementações diferentes` quando você precisa construir várias representações do produto. Por exemplo, paredes de uma cabana podem ser construídas com madeira, mas paredes de um castelo devem ser construídas com pedra.\n",
    "\n",
    "#### Nesse caso, `você pode criar diferentes classes construturas que implementam as mesmas etapas de construção`, mas de maneira diferente. Então você pode usar esses builders no processo de construção (i.e, um pedido ordenado de chamadas para as etapas de construção) para produzir diferentes tipos de objetos.\n",
    "![img](https://refactoring.guru/images/patterns/content/builder/builder-comic-1-pt-br.png)"
   ]
  },
  {
   "cell_type": "markdown",
   "metadata": {},
   "source": [
    "#### Por exemplo, imagine um builder que `constrói tudo` de madeira e vidro, um segundo builder que `constrói tudo` com pedra e ferro, e um terceiro que usa ouro e diamantes. Ao chamar o mesmo conjunto de etapas, você obtém uma casa normal do primeiro builder, um pequeno castelo do segundo, e um palácio do terceiro. Contudo, isso só vai funcionar se o código cliente que chama as etapas de construção é capaz de interagir com os builders usando uma interface comum.\n",
    "\n",
    "### Diretor\n",
    "\n",
    "#### Você pode ir além e extrair uma série de chamadas para as etapas do builder que você usa para construir um produto em uma `classe separada chamada diretor`. A classe diretor define a ordem na qual executar as etapas de construção, enquanto que o builder provê a implementação dessas etapas.\n",
    "![img](https://refactoring.guru/images/patterns/content/builder/builder-comic-2-pt-br.png)\n"
   ]
  },
  {
   "cell_type": "markdown",
   "metadata": {},
   "source": [
    "#### *Ter uma classe diretor em seu programa não é estritamente necessário*. Você sempre pode chamar as etapas de construção em uma ordem específica diretamente do código cliente. Contudo, a classe diretor pode ser um bom lugar para colocar várias rotinas de construção para que você possa reutilizá-las em qualquer lugar do seu programa.\n",
    "\n",
    "#### Além disso, a classe diretor esconde completamente os detalhes da construção do produto do código cliente. O cliente só precisa associar um builder com um diretor, inicializar a construção com o diretor, e então obter o resultado do builder."
   ]
  },
  {
   "cell_type": "markdown",
   "metadata": {},
   "source": [
    "### Exemplo conceitual(Código)"
   ]
  },
  {
   "cell_type": "code",
   "execution_count": 33,
   "metadata": {},
   "outputs": [
    {
     "name": "stdout",
     "output_type": "stream",
     "text": [
      "['floor', 'wall', 'window']\n",
      "['floor', 'floor', 'floor', 'floor', 'wall', 'roof', 'wall', 'roof', 'wall', 'roof', 'wall', 'roof', 'wall', 'roof', 'window']\n",
      "['floor', 'wall', 'window']\n",
      "process: A 2.0 red\n",
      "process: N 7.0 blue\n"
     ]
    }
   ],
   "source": [
    "from abc import abstractmethod, ABC\n",
    "from typing import Any, Callable\n",
    "\n",
    "class Builder(ABC):\n",
    "    @abstractmethod\n",
    "    def process(self) -> None:\n",
    "        ...\n",
    "    \n",
    "    @abstractmethod\n",
    "    def process_part_a(self) -> None:\n",
    "        ...\n",
    "\n",
    "    @abstractmethod\n",
    "    def process_part_b(self) -> None:\n",
    "        ...\n",
    "\n",
    "    @abstractmethod\n",
    "    def process_part_c(self) -> None:\n",
    "        ...             \n",
    "\n",
    "\n",
    "class HomeSimple:\n",
    "    def __init__(self) -> None:\n",
    "        self._struct = []\n",
    "        \n",
    "    def add_part(self, item: Any) -> None:\n",
    "        self._struct.append(item)\n",
    "    \n",
    "    def list_items(self) -> list:\n",
    "        return self._struct\n",
    "\n",
    "\n",
    "class ConcretBuilderHome(Builder):\n",
    "    def __init__(self) -> None:\n",
    "        self.reset()\n",
    "        \n",
    "    def reset(self) -> None:\n",
    "        self._product: HomeSimple = HomeSimple()\n",
    "\n",
    "    def process_part_a(self) -> None:\n",
    "        self._product.add_part('floor')\n",
    "\n",
    "    def process_part_b(self) -> None:\n",
    "        self._product.add_part('wall')\n",
    "\n",
    "    def process_part_c(self) -> None:\n",
    "        self._product.add_part('window')\n",
    "        \n",
    "    def process(self) -> None:\n",
    "        self.process_part_a()\n",
    "        self.process_part_b()\n",
    "        self.process_part_c()\n",
    "\n",
    "\n",
    "class Director:\n",
    "    def __init__(self) -> None:\n",
    "        self._builder: Any = None\n",
    "        \n",
    "    def builder(self, builder: Builder) -> None:\n",
    "        self._builder = builder\n",
    "\n",
    "    def build_minimal_viable_product(self) -> None:\n",
    "        self._builder.process_part_a()\n",
    "\n",
    "    def build_full_featured_product(self) -> None:\n",
    "        self._builder.process_part_a()\n",
    "        self._builder.process_part_b()\n",
    "        self._builder.process_part_c()\n",
    "        \n",
    "\n",
    "\n",
    "standerhome = ConcretBuilderHome()\n",
    "standerhome.process()\n",
    "print(standerhome._product.list_items())\n",
    "\n",
    "myhome = ConcretBuilderHome()\n",
    "for _ in range(4):\n",
    "    myhome.process_part_a()\n",
    "    \n",
    "for _ in range(5):\n",
    "    myhome.process_part_b()\n",
    "    myhome._product.add_part('roof')\n",
    "    \n",
    "myhome.process_part_c()\n",
    "print(myhome._product.list_items())\n",
    "\n",
    "director = Director()\n",
    "director.builder(ConcretBuilderHome())\n",
    "director.build_full_featured_product()\n",
    "print(director._builder._product.list_items())\n",
    "\n",
    "\n",
    "class ProductManager(ABC):\n",
    "    def __init__(self, parts: Any, size: float, color: str) -> None:\n",
    "        self.parts: Any = parts\n",
    "        self.size: float = size\n",
    "        self.color: str = color\n",
    "\n",
    "    @classmethod\n",
    "    def builder(cls, parts: Any, size: float, color: str) -> None:\n",
    "        return cls(parts, size, color)\n",
    "\n",
    "    @abstractmethod\n",
    "    def process(self) -> None:\n",
    "        ...\n",
    "\n",
    "\n",
    "class ProductA(ProductManager):\n",
    "    def process(self) -> None:\n",
    "        print(f\"process: {self.parts} {self.size} {self.color}\")\n",
    "        \n",
    "a = ProductA('A', 2.0, 'red')\n",
    "a.process()\n",
    "\n",
    "b = ProductA.builder('N', 7.0, 'blue')\n",
    "b.process()"
   ]
  }
 ],
 "metadata": {
  "interpreter": {
   "hash": "128e908363acb280a47a15c84574337f3ac3285f817d31aefc25b0f997ee3c95"
  },
  "kernelspec": {
   "display_name": "Python 3.9.7 ('jupyter')",
   "language": "python",
   "name": "python3"
  },
  "language_info": {
   "codemirror_mode": {
    "name": "ipython",
    "version": 3
   },
   "file_extension": ".py",
   "mimetype": "text/x-python",
   "name": "python",
   "nbconvert_exporter": "python",
   "pygments_lexer": "ipython3",
   "version": "3.10.4"
  },
  "orig_nbformat": 4
 },
 "nbformat": 4,
 "nbformat_minor": 2
}
